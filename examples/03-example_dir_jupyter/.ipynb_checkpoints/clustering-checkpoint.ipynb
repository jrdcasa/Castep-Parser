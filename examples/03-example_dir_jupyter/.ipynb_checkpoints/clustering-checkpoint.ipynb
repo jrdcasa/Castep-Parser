{
 "cells": [
  {
   "cell_type": "code",
   "execution_count": 13,
   "metadata": {
    "collapsed": true,
    "pycharm": {
     "name": "#%%\n"
    }
   },
   "outputs": [
    {
     "name": "stdout",
     "output_type": "stream",
     "text": [
      "2023.09.6\n"
     ]
    }
   ],
   "source": [
    "from rdkit.Chem import Draw\n",
    "from rdkit.Chem.Draw import IPythonConsole\n",
    "from rdkit import Chem\n",
    "from rdkit.Chem import rdDistGeom\n",
    "from rdkit.Chem import rdMolAlign\n",
    "import rdkit\n",
    "import glob\n",
    "import os\n",
    "print(rdkit.__version__)"
   ]
  },
  {
   "cell_type": "code",
   "execution_count": 14,
   "outputs": [],
   "source": [
    "cluster_type=\"RMSD\"\n",
    "logger=None"
   ],
   "metadata": {
    "collapsed": false,
    "pycharm": {
     "name": "#%%\n"
    }
   }
  },
  {
   "cell_type": "code",
   "execution_count": 16,
   "outputs": [
    {
     "name": "stdout",
     "output_type": "stream",
     "text": [
      "/home/jramos/Programacion/GITHUB_REPO_DIR/Castep-Parser/examples/03-example_dir_jupyter\n",
      "['../02-example_dir/01-PDBs_OUT/Conf_0001_opt.pdb', '../02-example_dir/01-PDBs_OUT/Conf_0002_opt.pdb', '../02-example_dir/01-PDBs_OUT/Conf_0003_opt.pdb', '../02-example_dir/01-PDBs_OUT/Conf_0004_opt.pdb', '../02-example_dir/01-PDBs_OUT/Conf_0005_opt.pdb', '../02-example_dir/01-PDBs_OUT/Conf_0006_opt.pdb', '../02-example_dir/01-PDBs_OUT/Conf_0007_opt.pdb', '../02-example_dir/01-PDBs_OUT/Conf_0008_opt.pdb', '../02-example_dir/01-PDBs_OUT/Conf_0009_opt.pdb', '../02-example_dir/01-PDBs_OUT/Conf_0010_opt.pdb', '../02-example_dir/01-PDBs_OUT/Conf_0011_opt.pdb', '../02-example_dir/01-PDBs_OUT/Conf_0012_opt.pdb', '../02-example_dir/01-PDBs_OUT/Conf_0013_opt.pdb', '../02-example_dir/01-PDBs_OUT/Conf_0014_opt.pdb', '../02-example_dir/01-PDBs_OUT/Conf_0015_opt.pdb', '../02-example_dir/01-PDBs_OUT/Conf_0016_opt.pdb', '../02-example_dir/01-PDBs_OUT/Conf_0017_opt.pdb', '../02-example_dir/01-PDBs_OUT/Conf_0018_opt.pdb', '../02-example_dir/01-PDBs_OUT/Conf_0019_opt.pdb', '../02-example_dir/01-PDBs_OUT/Conf_0020_opt.pdb', '../02-example_dir/01-PDBs_OUT/Conf_0021_opt.pdb', '../02-example_dir/01-PDBs_OUT/Conf_0022_opt.pdb', '../02-example_dir/01-PDBs_OUT/Conf_0023_opt.pdb', '../02-example_dir/01-PDBs_OUT/Conf_0024_opt.pdb', '../02-example_dir/01-PDBs_OUT/Conf_0025_opt.pdb', '../02-example_dir/01-PDBs_OUT/Conf_0026_opt.pdb', '../02-example_dir/01-PDBs_OUT/Conf_0027_opt.pdb', '../02-example_dir/01-PDBs_OUT/Conf_0028_opt.pdb', '../02-example_dir/01-PDBs_OUT/Conf_0029_opt.pdb', '../02-example_dir/01-PDBs_OUT/Conf_0030_opt.pdb', '../02-example_dir/01-PDBs_OUT/Conf_0031_opt.pdb', '../02-example_dir/01-PDBs_OUT/Conf_0032_opt.pdb', '../02-example_dir/01-PDBs_OUT/Conf_0033_opt.pdb', '../02-example_dir/01-PDBs_OUT/Conf_0034_opt.pdb']\n"
     ]
    }
   ],
   "source": [
    "extension=\"pdb\"\n",
    "print(os.getcwd())\n",
    "list_files = sorted(glob.glob(os.path.join(\"../02-example_dir/01-PDBs_OUT\", \"*.{}\".format(extension))))\n",
    "nfiles = len(list_files)\n",
    "if extension == \"mol2\":\n",
    "    molrdkit = Chem.MolFromMol2File(list_files[0], removeHs=False)\n",
    "elif extension == \"pdb\":\n",
    "    molrdkit = Chem.MolFromPDBFile(list_files[0], removeHs=False)\n",
    "else:\n",
    "    m = '\\n\\t\\t ERROR: \"{}\" files are not still supported in clusterize rdkit.\\n'.format(extension)\n",
    "    print(m) if logger is None else logger.error(m)\n",
    "    exit()"
   ],
   "metadata": {
    "collapsed": false,
    "pycharm": {
     "name": "#%%\n"
    }
   }
  },
  {
   "cell_type": "code",
   "execution_count": 17,
   "outputs": [
    {
     "ename": "ModuleNotFoundError",
     "evalue": "No module named 'py3Dmol'",
     "output_type": "error",
     "traceback": [
      "\u001B[0;31m---------------------------------------------------------------------------\u001B[0m",
      "\u001B[0;31mModuleNotFoundError\u001B[0m                       Traceback (most recent call last)",
      "Cell \u001B[0;32mIn[17], line 1\u001B[0m\n\u001B[0;32m----> 1\u001B[0m \u001B[38;5;28;01mimport\u001B[39;00m \u001B[38;5;21;01mpy3Dmol\u001B[39;00m \n\u001B[1;32m      2\u001B[0m view \u001B[38;5;241m=\u001B[39m py3Dmol\u001B[38;5;241m.\u001B[39mview(query\u001B[38;5;241m=\u001B[39m\u001B[38;5;124m'\u001B[39m\u001B[38;5;124mpdb:1ubq\u001B[39m\u001B[38;5;124m'\u001B[39m) \n\u001B[1;32m      3\u001B[0m view\u001B[38;5;241m.\u001B[39msetStyle({\u001B[38;5;124m'\u001B[39m\u001B[38;5;124mcartoon\u001B[39m\u001B[38;5;124m'\u001B[39m:{\u001B[38;5;124m'\u001B[39m\u001B[38;5;124mcolor\u001B[39m\u001B[38;5;124m'\u001B[39m:\u001B[38;5;124m'\u001B[39m\u001B[38;5;124mspectrum\u001B[39m\u001B[38;5;124m'\u001B[39m}}) \n",
      "\u001B[0;31mModuleNotFoundError\u001B[0m: No module named 'py3Dmol'"
     ]
    }
   ],
   "source": [
    "import py3Dmol\n",
    "view = py3Dmol.view(query='pdb:1ubq')\n",
    "view.setStyle({'cartoon':{'color':'spectrum'}})\n",
    "view"
   ],
   "metadata": {
    "collapsed": false,
    "pycharm": {
     "name": "#%%\n"
    }
   }
  },
  {
   "cell_type": "code",
   "execution_count": null,
   "outputs": [],
   "source": [],
   "metadata": {
    "collapsed": false,
    "pycharm": {
     "name": "#%%\n"
    }
   }
  }
 ],
 "metadata": {
  "kernelspec": {
   "display_name": "Python 3",
   "language": "python",
   "name": "python3"
  },
  "language_info": {
   "codemirror_mode": {
    "name": "ipython",
    "version": 2
   },
   "file_extension": ".py",
   "mimetype": "text/x-python",
   "name": "python",
   "nbconvert_exporter": "python",
   "pygments_lexer": "ipython2",
   "version": "2.7.6"
  }
 },
 "nbformat": 4,
 "nbformat_minor": 0
}