{
 "cells": [
  {
   "cell_type": "code",
   "execution_count": 1,
   "metadata": {
    "pycharm": {
     "name": "#%%\n"
    }
   },
   "outputs": [
    {
     "name": "stdout",
     "output_type": "stream",
     "text": [
      "2023.09.6\n"
     ]
    }
   ],
   "source": [
    "from rdkit.Chem import Draw\n",
    "from rdkit.Chem.Draw import IPythonConsole\n",
    "from rdkit import Chem\n",
    "from rdkit.Chem import rdDistGeom\n",
    "from rdkit.Chem import rdMolAlign\n",
    "from rdkit.ML.Cluster import Butina\n",
    "from collections import defaultdict\n",
    "import rdkit\n",
    "import glob\n",
    "import os\n",
    "print(rdkit.__version__)"
   ]
  },
  {
   "cell_type": "code",
   "execution_count": 2,
   "metadata": {
    "collapsed": false,
    "jupyter": {
     "outputs_hidden": false
    },
    "pycharm": {
     "name": "#%%\n"
    }
   },
   "outputs": [],
   "source": [
    "cluster_type=\"RMSD\"\n",
    "logger=None\n",
    "threshold=1.5"
   ]
  },
  {
   "cell_type": "code",
   "execution_count": 3,
   "metadata": {
    "collapsed": false,
    "jupyter": {
     "outputs_hidden": false
    },
    "pycharm": {
     "name": "#%%\n"
    }
   },
   "outputs": [
    {
     "data": {
      "application/3dmoljs_load.v0": "<div id=\"3dmolviewer_17155945494534695\"  style=\"position: relative; width: 640px; height: 480px;\">\n        <p id=\"3dmolwarning_17155945494534695\" style=\"background-color:#ffcccc;color:black\">3Dmol.js failed to load for some reason.  Please check your browser console for error messages.<br></p>\n        </div>\n<script>\n\nvar loadScriptAsync = function(uri){\n  return new Promise((resolve, reject) => {\n    //this is to ignore the existence of requirejs amd\n    var savedexports, savedmodule;\n    if (typeof exports !== 'undefined') savedexports = exports;\n    else exports = {}\n    if (typeof module !== 'undefined') savedmodule = module;\n    else module = {}\n\n    var tag = document.createElement('script');\n    tag.src = uri;\n    tag.async = true;\n    tag.onload = () => {\n        exports = savedexports;\n        module = savedmodule;\n        resolve();\n    };\n  var firstScriptTag = document.getElementsByTagName('script')[0];\n  firstScriptTag.parentNode.insertBefore(tag, firstScriptTag);\n});\n};\n\nif(typeof $3Dmolpromise === 'undefined') {\n$3Dmolpromise = null;\n  $3Dmolpromise = loadScriptAsync('https://cdnjs.cloudflare.com/ajax/libs/3Dmol/2.1.0/3Dmol-min.js');\n}\n\nvar viewer_17155945494534695 = null;\nvar warn = document.getElementById(\"3dmolwarning_17155945494534695\");\nif(warn) {\n    warn.parentNode.removeChild(warn);\n}\n$3Dmolpromise.then(function() {\nviewer_17155945494534695 = $3Dmol.createViewer(document.getElementById(\"3dmolviewer_17155945494534695\"),{backgroundColor:\"white\"});\n$3Dmol.download(\"pdb:1ubq\", viewer_17155945494534695, {}, function() {\nviewer_17155945494534695.zoomTo();\n\tviewer_17155945494534695.setStyle({\"cartoon\": {\"color\": \"spectrum\"}});\nviewer_17155945494534695.render();\n})\n});\n</script>",
      "text/html": [
       "<div id=\"3dmolviewer_17155945494534695\"  style=\"position: relative; width: 640px; height: 480px;\">\n",
       "        <p id=\"3dmolwarning_17155945494534695\" style=\"background-color:#ffcccc;color:black\">3Dmol.js failed to load for some reason.  Please check your browser console for error messages.<br></p>\n",
       "        </div>\n",
       "<script>\n",
       "\n",
       "var loadScriptAsync = function(uri){\n",
       "  return new Promise((resolve, reject) => {\n",
       "    //this is to ignore the existence of requirejs amd\n",
       "    var savedexports, savedmodule;\n",
       "    if (typeof exports !== 'undefined') savedexports = exports;\n",
       "    else exports = {}\n",
       "    if (typeof module !== 'undefined') savedmodule = module;\n",
       "    else module = {}\n",
       "\n",
       "    var tag = document.createElement('script');\n",
       "    tag.src = uri;\n",
       "    tag.async = true;\n",
       "    tag.onload = () => {\n",
       "        exports = savedexports;\n",
       "        module = savedmodule;\n",
       "        resolve();\n",
       "    };\n",
       "  var firstScriptTag = document.getElementsByTagName('script')[0];\n",
       "  firstScriptTag.parentNode.insertBefore(tag, firstScriptTag);\n",
       "});\n",
       "};\n",
       "\n",
       "if(typeof $3Dmolpromise === 'undefined') {\n",
       "$3Dmolpromise = null;\n",
       "  $3Dmolpromise = loadScriptAsync('https://cdnjs.cloudflare.com/ajax/libs/3Dmol/2.1.0/3Dmol-min.js');\n",
       "}\n",
       "\n",
       "var viewer_17155945494534695 = null;\n",
       "var warn = document.getElementById(\"3dmolwarning_17155945494534695\");\n",
       "if(warn) {\n",
       "    warn.parentNode.removeChild(warn);\n",
       "}\n",
       "$3Dmolpromise.then(function() {\n",
       "viewer_17155945494534695 = $3Dmol.createViewer(document.getElementById(\"3dmolviewer_17155945494534695\"),{backgroundColor:\"white\"});\n",
       "$3Dmol.download(\"pdb:1ubq\", viewer_17155945494534695, {}, function() {\n",
       "viewer_17155945494534695.zoomTo();\n",
       "\tviewer_17155945494534695.setStyle({\"cartoon\": {\"color\": \"spectrum\"}});\n",
       "viewer_17155945494534695.render();\n",
       "})\n",
       "});\n",
       "</script>"
      ]
     },
     "metadata": {},
     "output_type": "display_data"
    },
    {
     "data": {
      "text/plain": [
       "<py3Dmol.view at 0xd057c2d6800>"
      ]
     },
     "execution_count": 3,
     "metadata": {},
     "output_type": "execute_result"
    }
   ],
   "source": [
    "import py3Dmol\n",
    "view = py3Dmol.view(query='pdb:1ubq')\n",
    "view.setStyle({'cartoon':{'color':'spectrum'}})\n",
    "view"
   ]
  },
  {
   "cell_type": "code",
   "execution_count": 4,
   "metadata": {
    "collapsed": false,
    "jupyter": {
     "outputs_hidden": false
    },
    "pycharm": {
     "name": "#%%\n"
    }
   },
   "outputs": [],
   "source": [
    "import py3Dmol\n",
    "def drawit(m, cids=[-1], p=None, removeHs=True,\n",
    "           colors=('cyanCarbon','redCarbon','blueCarbon','magentaCarbon','whiteCarbon','purpleCarbon')):\n",
    "        if removeHs:\n",
    "            m = Chem.RemoveHs(m)\n",
    "        if p is None:\n",
    "            p = py3Dmol.view(width=400, height=400)\n",
    "        p.removeAllModels()\n",
    "        for i,cid in enumerate(cids):\n",
    "            IPythonConsole.addMolToView(m,p,confId=cid)\n",
    "        for i,cid in enumerate(cids):\n",
    "            p.setStyle({'model':i,},\n",
    "                            {'line':{'colorscheme':colors[i%len(colors)]}})\n",
    "        p.zoomTo()\n",
    "        return p.show()"
   ]
  },
  {
   "cell_type": "code",
   "execution_count": 5,
   "metadata": {},
   "outputs": [],
   "source": [
    "    id_to_file_dict = defaultdict()\n",
    "    extension = \"pdb\"\n",
    "    list_files = sorted(glob.glob(os.path.join(\"./01-PDBs_OUT\", \"*.{}\".format(extension))))\n",
    "    nfiles = len(list_files)\n",
    "    if extension == \"mol2\":\n",
    "        molrdkit = Chem.MolFromMol2File(list_files[0], removeHs=False)\n",
    "    elif extension == \"pdb\":\n",
    "        molrdkit = Chem.MolFromPDBFile(list_files[0], removeHs=False)\n",
    "    else:\n",
    "        m = '\\n\\t\\t ERROR: \"{}\" files are not still supported in clusterize rdkit.\\n'.format(extension)\n",
    "        print(m) if logger is None else logger.error(m)\n",
    "        exit()\n",
    "    id_to_file_dict[0] = list_files[0]\n",
    "\n",
    "    nconf = 1\n",
    "    for iconf in range(1, nfiles):\n",
    "\n",
    "        if extension == \"mol2\":\n",
    "            mtmp = Chem.MolFromMol2File(list_files[iconf], removeHs=False)\n",
    "        elif extension == \"pdb\":\n",
    "            mtmp = Chem.MolFromPDBFile(list_files[iconf], removeHs=False)\n",
    "        else:\n",
    "            m = \"\\n\\t\\t ERROR: {} files are not still soported\\n\".format(extension)\n",
    "            print(m) if logger is None else logger.error(m)\n",
    "            exit()\n",
    "        conf = Chem.Conformer(mtmp.GetConformer(0))\n",
    "        molrdkit.AddConformer(conf, assignId=True)\n",
    "        id_to_file_dict[nconf] = list_files[iconf]\n",
    "        nconf += 1"
   ]
  },
  {
   "cell_type": "code",
   "execution_count": 6,
   "metadata": {},
   "outputs": [
    {
     "name": "stdout",
     "output_type": "stream",
     "text": [
      "\t\t Number of initial conformers: 5\n",
      "\t\t Total Number of atoms: 32\n",
      "\t\t Remove Hydrogens to perform the clustering\n",
      "\t\t Heavy Number of atoms: 12\n",
      "\n"
     ]
    }
   ],
   "source": [
    "    # Remove Hydrogens ==================================================================\n",
    "    m = \"\\t\\t Number of initial conformers: {}\\n\".format(molrdkit.GetNumConformers())\n",
    "    m += \"\\t\\t Total Number of atoms: {}\\n\".format(molrdkit.GetNumAtoms())\n",
    "    molrdkit_no_h = Chem.RemoveHs(molrdkit)\n",
    "    m += \"\\t\\t Remove Hydrogens to perform the clustering\\n\"\n",
    "    m += \"\\t\\t Heavy Number of atoms: {}\\n\".format(molrdkit_no_h.GetNumAtoms())\n",
    "    print(m) if logger is None else logger.info(m)"
   ]
  },
  {
   "cell_type": "code",
   "execution_count": 7,
   "metadata": {},
   "outputs": [],
   "source": [
    "    # Find a pair of conformers with a decent size mismatch\n",
    "    # between the direct alignment (which does not take symmetry into account) and the best alignment (which does):\n",
    "    maxd = -100\n",
    "    for j in range(0, nconf):\n",
    "        for i in range(j, nconf):\n",
    "            d1 = rdMolAlign.AlignMol(molrdkit_no_h, molrdkit_no_h, prbCid=i, refCid=j)\n",
    "            d2 = rdMolAlign.GetBestRMS(molrdkit_no_h, molrdkit_no_h, prbId=i, refId=j)\n",
    "            delt = d1 - d2\n",
    "            if delt < -1e-5:\n",
    "                print(f'ooops, {i}, {delt}')\n",
    "            if delt > maxd:\n",
    "                maxd = delt\n",
    "                maxi = i\n",
    "                maxj = j\n",
    "    d1 = rdMolAlign.AlignMol(molrdkit_no_h, molrdkit_no_h, prbCid=maxi, refCid=maxj)\n",
    "    d2 = rdMolAlign.GetBestRMS(molrdkit_no_h, molrdkit_no_h, prbId=maxi, refId=maxj)"
   ]
  },
  {
   "cell_type": "code",
   "execution_count": 8,
   "metadata": {},
   "outputs": [
    {
     "name": "stdout",
     "output_type": "stream",
     "text": [
      "1 0\n",
      "2 0\n",
      "2 1\n",
      "3 0\n",
      "3 1\n",
      "3 2\n",
      "4 0\n",
      "4 1\n",
      "4 2\n",
      "4 3\n",
      "[0.8769190681038209, 0.11795360418855162, 0.8749136860279239, 0.8020211360200789, 0.6929821435742568, 0.7988247500482687, 1.4077571872750787, 1.654890450375954, 1.3612704876828092, 1.2815068876906657]\n"
     ]
    },
    {
     "data": {
      "text/plain": [
       "1"
      ]
     },
     "execution_count": 8,
     "metadata": {},
     "output_type": "execute_result"
    }
   ],
   "source": [
    "    # Clusterize ========================================================================\n",
    "    dists = []\n",
    "    for i in range(nconf):\n",
    "        for j in range(i):\n",
    "            print(i, j)\n",
    "            dists.append(rdMolAlign.GetBestRMS(molrdkit_no_h, molrdkit_no_h, i, j))\n",
    "            # dists.append(rdMolAlign.AlignMol(molrdkit_no_h, molrdkit_no_h, i, j))\n",
    "    print(dists)\n",
    "\n",
    "    if cluster_type == \"RMSD\":\n",
    "        clusts = Butina.ClusterData(dists, nfiles, threshold, isDistData=True, reordering=True)\n",
    "    elif cluster_type == \"TFD\":\n",
    "        tfdmat = TorsionFingerprints.GetTFDMatrix(molrdkit)\n",
    "        clusts = Butina.ClusterData(tfdmat, nfiles, threshold, isDistData=True, reordering=True)\n",
    "    len(clusts)"
   ]
  },
  {
   "cell_type": "code",
   "execution_count": 12,
   "metadata": {},
   "outputs": [
    {
     "data": {
      "application/3dmoljs_load.v0": "<div id=\"3dmolviewer_1715594605473162\"  style=\"position: relative; width: 400px; height: 400px;\">\n        <p id=\"3dmolwarning_1715594605473162\" style=\"background-color:#ffcccc;color:black\">3Dmol.js failed to load for some reason.  Please check your browser console for error messages.<br></p>\n        </div>\n<script>\n\nvar loadScriptAsync = function(uri){\n  return new Promise((resolve, reject) => {\n    //this is to ignore the existence of requirejs amd\n    var savedexports, savedmodule;\n    if (typeof exports !== 'undefined') savedexports = exports;\n    else exports = {}\n    if (typeof module !== 'undefined') savedmodule = module;\n    else module = {}\n\n    var tag = document.createElement('script');\n    tag.src = uri;\n    tag.async = true;\n    tag.onload = () => {\n        exports = savedexports;\n        module = savedmodule;\n        resolve();\n    };\n  var firstScriptTag = document.getElementsByTagName('script')[0];\n  firstScriptTag.parentNode.insertBefore(tag, firstScriptTag);\n});\n};\n\nif(typeof $3Dmolpromise === 'undefined') {\n$3Dmolpromise = null;\n  $3Dmolpromise = loadScriptAsync('https://cdnjs.cloudflare.com/ajax/libs/3Dmol/2.1.0/3Dmol-min.js');\n}\n\nvar viewer_1715594605473162 = null;\nvar warn = document.getElementById(\"3dmolwarning_1715594605473162\");\nif(warn) {\n    warn.parentNode.removeChild(warn);\n}\n$3Dmolpromise.then(function() {\nviewer_1715594605473162 = $3Dmol.createViewer(document.getElementById(\"3dmolviewer_1715594605473162\"),{backgroundColor:\"white\"});\nviewer_1715594605473162.zoomTo();\n\tviewer_1715594605473162.removeAllModels();\n\tviewer_1715594605473162.addModel(\"\\n     RDKit          3D\\n\\n 12 11  0  0  0  0  0  0  0  0999 V2000\\n    5.6495    9.1371   24.0712 C   0  0  0  0  0  0  0  0  0  0  0  0\\n    6.5413    9.9102   25.0280 C   0  0  0  0  0  0  0  0  0  0  0  0\\n    5.4782    8.1021   21.7808 C   0  0  0  0  0  0  0  0  0  0  0  0\\n    6.1883    7.7777   20.4700 C   0  0  0  0  0  0  0  0  0  0  0  0\\n    6.2698    8.9272   19.4427 C   0  0  0  0  0  0  0  0  0  0  0  0\\n    5.8030   10.2302   26.3330 C   0  0  0  0  0  0  0  0  0  0  0  0\\n    6.6670   11.0152   27.3171 C   0  0  0  0  0  0  0  0  0  0  0  0\\n    6.3091    8.9207   22.7336 N   0  0  0  0  0  0  0  0  0  0  0  0\\n    7.5989   11.5058   18.7248 O   0  0  0  0  0  0  0  0  0  0  0  0\\n    8.7990    9.6074   20.3665 O   0  0  0  0  0  0  0  0  0  0  0  0\\n    6.7485   11.1539   21.1698 O   0  0  0  0  0  0  0  0  0  0  0  0\\n    7.4134   10.3426   19.8564 Si  0  0  0  0  0  4  0  0  0  0  0  0\\n  2  1  1  0\\n  4  3  1  0\\n  5  4  1  0\\n  6  2  1  0\\n  7  6  1  0\\n  8  3  1  0\\n  8  1  1  0\\n 12 10  1  0\\n 12  5  1  0\\n 12 11  1  0\\n 12  9  1  0\\nM  CHG  1   8   1\\nM  END\\n\",\"sdf\");\n\tviewer_1715594605473162.setStyle({\"stick\": {}});\n\tviewer_1715594605473162.setStyle({\"model\": 0},{\"line\": {\"colorscheme\": \"cyanCarbon\"}});\n\tviewer_1715594605473162.zoomTo();\nviewer_1715594605473162.render();\n});\n</script>",
      "text/html": [
       "<div id=\"3dmolviewer_1715594605473162\"  style=\"position: relative; width: 400px; height: 400px;\">\n",
       "        <p id=\"3dmolwarning_1715594605473162\" style=\"background-color:#ffcccc;color:black\">3Dmol.js failed to load for some reason.  Please check your browser console for error messages.<br></p>\n",
       "        </div>\n",
       "<script>\n",
       "\n",
       "var loadScriptAsync = function(uri){\n",
       "  return new Promise((resolve, reject) => {\n",
       "    //this is to ignore the existence of requirejs amd\n",
       "    var savedexports, savedmodule;\n",
       "    if (typeof exports !== 'undefined') savedexports = exports;\n",
       "    else exports = {}\n",
       "    if (typeof module !== 'undefined') savedmodule = module;\n",
       "    else module = {}\n",
       "\n",
       "    var tag = document.createElement('script');\n",
       "    tag.src = uri;\n",
       "    tag.async = true;\n",
       "    tag.onload = () => {\n",
       "        exports = savedexports;\n",
       "        module = savedmodule;\n",
       "        resolve();\n",
       "    };\n",
       "  var firstScriptTag = document.getElementsByTagName('script')[0];\n",
       "  firstScriptTag.parentNode.insertBefore(tag, firstScriptTag);\n",
       "});\n",
       "};\n",
       "\n",
       "if(typeof $3Dmolpromise === 'undefined') {\n",
       "$3Dmolpromise = null;\n",
       "  $3Dmolpromise = loadScriptAsync('https://cdnjs.cloudflare.com/ajax/libs/3Dmol/2.1.0/3Dmol-min.js');\n",
       "}\n",
       "\n",
       "var viewer_1715594605473162 = null;\n",
       "var warn = document.getElementById(\"3dmolwarning_1715594605473162\");\n",
       "if(warn) {\n",
       "    warn.parentNode.removeChild(warn);\n",
       "}\n",
       "$3Dmolpromise.then(function() {\n",
       "viewer_1715594605473162 = $3Dmol.createViewer(document.getElementById(\"3dmolviewer_1715594605473162\"),{backgroundColor:\"white\"});\n",
       "viewer_1715594605473162.zoomTo();\n",
       "\tviewer_1715594605473162.removeAllModels();\n",
       "\tviewer_1715594605473162.addModel(\"\\n     RDKit          3D\\n\\n 12 11  0  0  0  0  0  0  0  0999 V2000\\n    5.6495    9.1371   24.0712 C   0  0  0  0  0  0  0  0  0  0  0  0\\n    6.5413    9.9102   25.0280 C   0  0  0  0  0  0  0  0  0  0  0  0\\n    5.4782    8.1021   21.7808 C   0  0  0  0  0  0  0  0  0  0  0  0\\n    6.1883    7.7777   20.4700 C   0  0  0  0  0  0  0  0  0  0  0  0\\n    6.2698    8.9272   19.4427 C   0  0  0  0  0  0  0  0  0  0  0  0\\n    5.8030   10.2302   26.3330 C   0  0  0  0  0  0  0  0  0  0  0  0\\n    6.6670   11.0152   27.3171 C   0  0  0  0  0  0  0  0  0  0  0  0\\n    6.3091    8.9207   22.7336 N   0  0  0  0  0  0  0  0  0  0  0  0\\n    7.5989   11.5058   18.7248 O   0  0  0  0  0  0  0  0  0  0  0  0\\n    8.7990    9.6074   20.3665 O   0  0  0  0  0  0  0  0  0  0  0  0\\n    6.7485   11.1539   21.1698 O   0  0  0  0  0  0  0  0  0  0  0  0\\n    7.4134   10.3426   19.8564 Si  0  0  0  0  0  4  0  0  0  0  0  0\\n  2  1  1  0\\n  4  3  1  0\\n  5  4  1  0\\n  6  2  1  0\\n  7  6  1  0\\n  8  3  1  0\\n  8  1  1  0\\n 12 10  1  0\\n 12  5  1  0\\n 12 11  1  0\\n 12  9  1  0\\nM  CHG  1   8   1\\nM  END\\n\",\"sdf\");\n",
       "\tviewer_1715594605473162.setStyle({\"stick\": {}});\n",
       "\tviewer_1715594605473162.setStyle({\"model\": 0},{\"line\": {\"colorscheme\": \"cyanCarbon\"}});\n",
       "\tviewer_1715594605473162.zoomTo();\n",
       "viewer_1715594605473162.render();\n",
       "});\n",
       "</script>"
      ]
     },
     "metadata": {},
     "output_type": "display_data"
    },
    {
     "data": {
      "text/plain": [
       "1.5369368461874025"
      ]
     },
     "execution_count": 12,
     "metadata": {},
     "output_type": "execute_result"
    }
   ],
   "source": [
    "centroids = [x[0] for x in clusts]\n",
    "drawit(molrdkit_no_h,centroids[:])\n"
   ]
  },
  {
   "cell_type": "code",
   "execution_count": 10,
   "metadata": {},
   "outputs": [
    {
     "data": {
      "application/3dmoljs_load.v0": "<div id=\"3dmolviewer_1715594549604323\"  style=\"position: relative; width: 400px; height: 400px;\">\n        <p id=\"3dmolwarning_1715594549604323\" style=\"background-color:#ffcccc;color:black\">3Dmol.js failed to load for some reason.  Please check your browser console for error messages.<br></p>\n        </div>\n<script>\n\nvar loadScriptAsync = function(uri){\n  return new Promise((resolve, reject) => {\n    //this is to ignore the existence of requirejs amd\n    var savedexports, savedmodule;\n    if (typeof exports !== 'undefined') savedexports = exports;\n    else exports = {}\n    if (typeof module !== 'undefined') savedmodule = module;\n    else module = {}\n\n    var tag = document.createElement('script');\n    tag.src = uri;\n    tag.async = true;\n    tag.onload = () => {\n        exports = savedexports;\n        module = savedmodule;\n        resolve();\n    };\n  var firstScriptTag = document.getElementsByTagName('script')[0];\n  firstScriptTag.parentNode.insertBefore(tag, firstScriptTag);\n});\n};\n\nif(typeof $3Dmolpromise === 'undefined') {\n$3Dmolpromise = null;\n  $3Dmolpromise = loadScriptAsync('https://cdnjs.cloudflare.com/ajax/libs/3Dmol/2.1.0/3Dmol-min.js');\n}\n\nvar viewer_1715594549604323 = null;\nvar warn = document.getElementById(\"3dmolwarning_1715594549604323\");\nif(warn) {\n    warn.parentNode.removeChild(warn);\n}\n$3Dmolpromise.then(function() {\nviewer_1715594549604323 = $3Dmol.createViewer(document.getElementById(\"3dmolviewer_1715594549604323\"),{backgroundColor:\"white\"});\nviewer_1715594549604323.zoomTo();\n\tviewer_1715594549604323.removeAllModels();\n\tviewer_1715594549604323.addModel(\"\\n     RDKit          3D\\n\\n 12 11  0  0  0  0  0  0  0  0999 V2000\\n    5.8134    9.1080   23.6367 C   0  0  0  0  0  0  0  0  0  0  0  0\\n    6.7157    9.6627   24.7241 C   0  0  0  0  0  0  0  0  0  0  0  0\\n    5.7760    7.5066   21.6505 C   0  0  0  0  0  0  0  0  0  0  0  0\\n    5.1926    8.4740   20.6248 C   0  0  0  0  0  0  0  0  0  0  0  0\\n    6.1966    9.0931   19.6306 C   0  0  0  0  0  0  0  0  0  0  0  0\\n    5.9479   10.5784   25.6801 C   0  0  0  0  0  0  0  0  0  0  0  0\\n    6.8757   11.2318   26.7017 C   0  0  0  0  0  0  0  0  0  0  0  0\\n    6.5802    8.1696   22.7444 N   0  0  0  0  0  0  0  0  0  0  0  0\\n    8.1250   11.3078   19.1403 O   0  0  0  0  0  0  0  0  0  0  0  0\\n    8.3928    9.5826   21.2679 O   0  0  0  0  0  0  0  0  0  0  0  0\\n    6.5154   11.4856   21.2268 O   0  0  0  0  0  0  0  0  0  0  0  0\\n    7.3347   10.4299   20.2661 Si  0  0  0  0  0  4  0  0  0  0  0  0\\n  2  1  1  0\\n  4  3  1  0\\n  5  4  1  0\\n  6  2  1  0\\n  7  6  1  0\\n  8  3  1  0\\n  8  1  1  0\\n 12 10  1  0\\n 12  5  1  0\\n 12 11  1  0\\n 12  9  1  0\\nM  CHG  1   8   1\\nM  END\\n\",\"sdf\");\n\tviewer_1715594549604323.setStyle({\"stick\": {}});\n\tviewer_1715594549604323.addModel(\"\\n     RDKit          3D\\n\\n 12 11  0  0  0  0  0  0  0  0999 V2000\\n    6.0880    8.9378   23.6584 C   0  0  0  0  0  0  0  0  0  0  0  0\\n    6.0241   10.1039   24.6253 C   0  0  0  0  0  0  0  0  0  0  0  0\\n    5.0354    7.9874   21.5406 C   0  0  0  0  0  0  0  0  0  0  0  0\\n    6.3336    7.7056   20.7883 C   0  0  0  0  0  0  0  0  0  0  0  0\\n    6.7454    8.7438   19.7260 C   0  0  0  0  0  0  0  0  0  0  0  0\\n    7.0241    9.9215   25.7691 C   0  0  0  0  0  0  0  0  0  0  0  0\\n    7.0253   11.1184   26.7157 C   0  0  0  0  0  0  0  0  0  0  0  0\\n    5.1062    9.1272   22.5342 N   0  0  0  0  0  0  0  0  0  0  0  0\\n    7.9198   11.4163   19.1443 O   0  0  0  0  0  0  0  0  0  0  0  0\\n    8.5706    9.9942   21.4315 O   0  0  0  0  0  0  0  0  0  0  0  0\\n    6.1664   11.1948   21.0542 O   0  0  0  0  0  0  0  0  0  0  0  0\\n    7.4272   10.3790   20.3065 Si  0  0  0  0  0  4  0  0  0  0  0  0\\n  2  1  1  0\\n  4  3  1  0\\n  5  4  1  0\\n  6  2  1  0\\n  7  6  1  0\\n  8  3  1  0\\n  8  1  1  0\\n 12 10  1  0\\n 12  5  1  0\\n 12 11  1  0\\n 12  9  1  0\\nM  CHG  1   8   1\\nM  END\\n\",\"sdf\");\n\tviewer_1715594549604323.setStyle({\"stick\": {}});\n\tviewer_1715594549604323.setStyle({\"model\": 0},{\"line\": {\"colorscheme\": \"cyanCarbon\"}});\n\tviewer_1715594549604323.setStyle({\"model\": 1},{\"line\": {\"colorscheme\": \"redCarbon\"}});\n\tviewer_1715594549604323.zoomTo();\nviewer_1715594549604323.render();\n});\n</script>",
      "text/html": [
       "<div id=\"3dmolviewer_1715594549604323\"  style=\"position: relative; width: 400px; height: 400px;\">\n",
       "        <p id=\"3dmolwarning_1715594549604323\" style=\"background-color:#ffcccc;color:black\">3Dmol.js failed to load for some reason.  Please check your browser console for error messages.<br></p>\n",
       "        </div>\n",
       "<script>\n",
       "\n",
       "var loadScriptAsync = function(uri){\n",
       "  return new Promise((resolve, reject) => {\n",
       "    //this is to ignore the existence of requirejs amd\n",
       "    var savedexports, savedmodule;\n",
       "    if (typeof exports !== 'undefined') savedexports = exports;\n",
       "    else exports = {}\n",
       "    if (typeof module !== 'undefined') savedmodule = module;\n",
       "    else module = {}\n",
       "\n",
       "    var tag = document.createElement('script');\n",
       "    tag.src = uri;\n",
       "    tag.async = true;\n",
       "    tag.onload = () => {\n",
       "        exports = savedexports;\n",
       "        module = savedmodule;\n",
       "        resolve();\n",
       "    };\n",
       "  var firstScriptTag = document.getElementsByTagName('script')[0];\n",
       "  firstScriptTag.parentNode.insertBefore(tag, firstScriptTag);\n",
       "});\n",
       "};\n",
       "\n",
       "if(typeof $3Dmolpromise === 'undefined') {\n",
       "$3Dmolpromise = null;\n",
       "  $3Dmolpromise = loadScriptAsync('https://cdnjs.cloudflare.com/ajax/libs/3Dmol/2.1.0/3Dmol-min.js');\n",
       "}\n",
       "\n",
       "var viewer_1715594549604323 = null;\n",
       "var warn = document.getElementById(\"3dmolwarning_1715594549604323\");\n",
       "if(warn) {\n",
       "    warn.parentNode.removeChild(warn);\n",
       "}\n",
       "$3Dmolpromise.then(function() {\n",
       "viewer_1715594549604323 = $3Dmol.createViewer(document.getElementById(\"3dmolviewer_1715594549604323\"),{backgroundColor:\"white\"});\n",
       "viewer_1715594549604323.zoomTo();\n",
       "\tviewer_1715594549604323.removeAllModels();\n",
       "\tviewer_1715594549604323.addModel(\"\\n     RDKit          3D\\n\\n 12 11  0  0  0  0  0  0  0  0999 V2000\\n    5.8134    9.1080   23.6367 C   0  0  0  0  0  0  0  0  0  0  0  0\\n    6.7157    9.6627   24.7241 C   0  0  0  0  0  0  0  0  0  0  0  0\\n    5.7760    7.5066   21.6505 C   0  0  0  0  0  0  0  0  0  0  0  0\\n    5.1926    8.4740   20.6248 C   0  0  0  0  0  0  0  0  0  0  0  0\\n    6.1966    9.0931   19.6306 C   0  0  0  0  0  0  0  0  0  0  0  0\\n    5.9479   10.5784   25.6801 C   0  0  0  0  0  0  0  0  0  0  0  0\\n    6.8757   11.2318   26.7017 C   0  0  0  0  0  0  0  0  0  0  0  0\\n    6.5802    8.1696   22.7444 N   0  0  0  0  0  0  0  0  0  0  0  0\\n    8.1250   11.3078   19.1403 O   0  0  0  0  0  0  0  0  0  0  0  0\\n    8.3928    9.5826   21.2679 O   0  0  0  0  0  0  0  0  0  0  0  0\\n    6.5154   11.4856   21.2268 O   0  0  0  0  0  0  0  0  0  0  0  0\\n    7.3347   10.4299   20.2661 Si  0  0  0  0  0  4  0  0  0  0  0  0\\n  2  1  1  0\\n  4  3  1  0\\n  5  4  1  0\\n  6  2  1  0\\n  7  6  1  0\\n  8  3  1  0\\n  8  1  1  0\\n 12 10  1  0\\n 12  5  1  0\\n 12 11  1  0\\n 12  9  1  0\\nM  CHG  1   8   1\\nM  END\\n\",\"sdf\");\n",
       "\tviewer_1715594549604323.setStyle({\"stick\": {}});\n",
       "\tviewer_1715594549604323.addModel(\"\\n     RDKit          3D\\n\\n 12 11  0  0  0  0  0  0  0  0999 V2000\\n    6.0880    8.9378   23.6584 C   0  0  0  0  0  0  0  0  0  0  0  0\\n    6.0241   10.1039   24.6253 C   0  0  0  0  0  0  0  0  0  0  0  0\\n    5.0354    7.9874   21.5406 C   0  0  0  0  0  0  0  0  0  0  0  0\\n    6.3336    7.7056   20.7883 C   0  0  0  0  0  0  0  0  0  0  0  0\\n    6.7454    8.7438   19.7260 C   0  0  0  0  0  0  0  0  0  0  0  0\\n    7.0241    9.9215   25.7691 C   0  0  0  0  0  0  0  0  0  0  0  0\\n    7.0253   11.1184   26.7157 C   0  0  0  0  0  0  0  0  0  0  0  0\\n    5.1062    9.1272   22.5342 N   0  0  0  0  0  0  0  0  0  0  0  0\\n    7.9198   11.4163   19.1443 O   0  0  0  0  0  0  0  0  0  0  0  0\\n    8.5706    9.9942   21.4315 O   0  0  0  0  0  0  0  0  0  0  0  0\\n    6.1664   11.1948   21.0542 O   0  0  0  0  0  0  0  0  0  0  0  0\\n    7.4272   10.3790   20.3065 Si  0  0  0  0  0  4  0  0  0  0  0  0\\n  2  1  1  0\\n  4  3  1  0\\n  5  4  1  0\\n  6  2  1  0\\n  7  6  1  0\\n  8  3  1  0\\n  8  1  1  0\\n 12 10  1  0\\n 12  5  1  0\\n 12 11  1  0\\n 12  9  1  0\\nM  CHG  1   8   1\\nM  END\\n\",\"sdf\");\n",
       "\tviewer_1715594549604323.setStyle({\"stick\": {}});\n",
       "\tviewer_1715594549604323.setStyle({\"model\": 0},{\"line\": {\"colorscheme\": \"cyanCarbon\"}});\n",
       "\tviewer_1715594549604323.setStyle({\"model\": 1},{\"line\": {\"colorscheme\": \"redCarbon\"}});\n",
       "\tviewer_1715594549604323.zoomTo();\n",
       "viewer_1715594549604323.render();\n",
       "});\n",
       "</script>"
      ]
     },
     "metadata": {},
     "output_type": "display_data"
    }
   ],
   "source": [
    "drawit(molrdkit_no_h, [1, 0])"
   ]
  },
  {
   "cell_type": "code",
   "execution_count": 11,
   "metadata": {},
   "outputs": [
    {
     "name": "stdout",
     "output_type": "stream",
     "text": [
      "1.6548904503758852\n"
     ]
    },
    {
     "data": {
      "application/3dmoljs_load.v0": "<div id=\"3dmolviewer_1715594549622987\"  style=\"position: relative; width: 400px; height: 400px;\">\n        <p id=\"3dmolwarning_1715594549622987\" style=\"background-color:#ffcccc;color:black\">3Dmol.js failed to load for some reason.  Please check your browser console for error messages.<br></p>\n        </div>\n<script>\n\nvar loadScriptAsync = function(uri){\n  return new Promise((resolve, reject) => {\n    //this is to ignore the existence of requirejs amd\n    var savedexports, savedmodule;\n    if (typeof exports !== 'undefined') savedexports = exports;\n    else exports = {}\n    if (typeof module !== 'undefined') savedmodule = module;\n    else module = {}\n\n    var tag = document.createElement('script');\n    tag.src = uri;\n    tag.async = true;\n    tag.onload = () => {\n        exports = savedexports;\n        module = savedmodule;\n        resolve();\n    };\n  var firstScriptTag = document.getElementsByTagName('script')[0];\n  firstScriptTag.parentNode.insertBefore(tag, firstScriptTag);\n});\n};\n\nif(typeof $3Dmolpromise === 'undefined') {\n$3Dmolpromise = null;\n  $3Dmolpromise = loadScriptAsync('https://cdnjs.cloudflare.com/ajax/libs/3Dmol/2.1.0/3Dmol-min.js');\n}\n\nvar viewer_1715594549622987 = null;\nvar warn = document.getElementById(\"3dmolwarning_1715594549622987\");\nif(warn) {\n    warn.parentNode.removeChild(warn);\n}\n$3Dmolpromise.then(function() {\nviewer_1715594549622987 = $3Dmol.createViewer(document.getElementById(\"3dmolviewer_1715594549622987\"),{backgroundColor:\"white\"});\nviewer_1715594549622987.zoomTo();\n\tviewer_1715594549622987.removeAllModels();\n\tviewer_1715594549622987.addModel(\"\\n     RDKit          3D\\n\\n 12 11  0  0  0  0  0  0  0  0999 V2000\\n    5.7717    9.1698   23.6376 C   0  0  0  0  0  0  0  0  0  0  0  0\\n    6.7242    9.6375   24.7230 C   0  0  0  0  0  0  0  0  0  0  0  0\\n    5.5861    7.5916   21.6412 C   0  0  0  0  0  0  0  0  0  0  0  0\\n    5.0820    8.6126   20.6255 C   0  0  0  0  0  0  0  0  0  0  0  0\\n    6.1297    9.1506   19.6293 C   0  0  0  0  0  0  0  0  0  0  0  0\\n    6.0431   10.6088   25.6898 C   0  0  0  0  0  0  0  0  0  0  0  0\\n    7.0292   11.1731   26.7099 C   0  0  0  0  0  0  0  0  0  0  0  0\\n    6.4502    8.1756   22.7345 N   0  0  0  0  0  0  0  0  0  0  0  0\\n    8.2379   11.1955   19.1415 O   0  0  0  0  0  0  0  0  0  0  0  0\\n    8.3689    9.4387   21.2560 O   0  0  0  0  0  0  0  0  0  0  0  0\\n    6.6612   11.4956   21.2392 O   0  0  0  0  0  0  0  0  0  0  0  0\\n    7.3817   10.3805   20.2665 Si  0  0  0  0  0  4  0  0  0  0  0  0\\n  2  1  1  0\\n  4  3  1  0\\n  5  4  1  0\\n  6  2  1  0\\n  7  6  1  0\\n  8  3  1  0\\n  8  1  1  0\\n 12 10  1  0\\n 12  5  1  0\\n 12 11  1  0\\n 12  9  1  0\\nM  CHG  1   8   1\\nM  END\\n\",\"sdf\");\n\tviewer_1715594549622987.setStyle({\"stick\": {}});\n\tviewer_1715594549622987.addModel(\"\\n     RDKit          3D\\n\\n 12 11  0  0  0  0  0  0  0  0999 V2000\\n    6.2272    9.6251   24.2825 C   0  0  0  0  0  0  0  0  0  0  0  0\\n    5.6481    9.4880   25.6796 C   0  0  0  0  0  0  0  0  0  0  0  0\\n    5.5756    9.5255   21.7999 C   0  0  0  0  0  0  0  0  0  0  0  0\\n    6.6706    8.5507   21.3863 C   0  0  0  0  0  0  0  0  0  0  0  0\\n    6.8752    8.5523   19.8611 C   0  0  0  0  0  0  0  0  0  0  0  0\\n    6.6869    9.8103   26.7594 C   0  0  0  0  0  0  0  0  0  0  0  0\\n    6.1036    9.6667   28.1645 C   0  0  0  0  0  0  0  0  0  0  0  0\\n    5.1698    9.3258   23.2441 N   0  0  0  0  0  0  0  0  0  0  0  0\\n    7.6467   10.1657   17.5115 O   0  0  0  0  0  0  0  0  0  0  0  0\\n    8.9342   10.4071   19.9605 O   0  0  0  0  0  0  0  0  0  0  0  0\\n    6.4105   11.3465   19.4977 O   0  0  0  0  0  0  0  0  0  0  0  0\\n    7.5176   10.1662   19.1469 Si  0  0  0  0  0  4  0  0  0  0  0  0\\n  2  1  1  0\\n  4  3  1  0\\n  5  4  1  0\\n  6  2  1  0\\n  7  6  1  0\\n  8  3  1  0\\n  8  1  1  0\\n 12 10  1  0\\n 12  5  1  0\\n 12 11  1  0\\n 12  9  1  0\\nM  CHG  1   8   1\\nM  END\\n\",\"sdf\");\n\tviewer_1715594549622987.setStyle({\"stick\": {}});\n\tviewer_1715594549622987.setStyle({\"model\": 0},{\"line\": {\"colorscheme\": \"cyanCarbon\"}});\n\tviewer_1715594549622987.setStyle({\"model\": 1},{\"line\": {\"colorscheme\": \"redCarbon\"}});\n\tviewer_1715594549622987.zoomTo();\nviewer_1715594549622987.render();\n});\n</script>",
      "text/html": [
       "<div id=\"3dmolviewer_1715594549622987\"  style=\"position: relative; width: 400px; height: 400px;\">\n",
       "        <p id=\"3dmolwarning_1715594549622987\" style=\"background-color:#ffcccc;color:black\">3Dmol.js failed to load for some reason.  Please check your browser console for error messages.<br></p>\n",
       "        </div>\n",
       "<script>\n",
       "\n",
       "var loadScriptAsync = function(uri){\n",
       "  return new Promise((resolve, reject) => {\n",
       "    //this is to ignore the existence of requirejs amd\n",
       "    var savedexports, savedmodule;\n",
       "    if (typeof exports !== 'undefined') savedexports = exports;\n",
       "    else exports = {}\n",
       "    if (typeof module !== 'undefined') savedmodule = module;\n",
       "    else module = {}\n",
       "\n",
       "    var tag = document.createElement('script');\n",
       "    tag.src = uri;\n",
       "    tag.async = true;\n",
       "    tag.onload = () => {\n",
       "        exports = savedexports;\n",
       "        module = savedmodule;\n",
       "        resolve();\n",
       "    };\n",
       "  var firstScriptTag = document.getElementsByTagName('script')[0];\n",
       "  firstScriptTag.parentNode.insertBefore(tag, firstScriptTag);\n",
       "});\n",
       "};\n",
       "\n",
       "if(typeof $3Dmolpromise === 'undefined') {\n",
       "$3Dmolpromise = null;\n",
       "  $3Dmolpromise = loadScriptAsync('https://cdnjs.cloudflare.com/ajax/libs/3Dmol/2.1.0/3Dmol-min.js');\n",
       "}\n",
       "\n",
       "var viewer_1715594549622987 = null;\n",
       "var warn = document.getElementById(\"3dmolwarning_1715594549622987\");\n",
       "if(warn) {\n",
       "    warn.parentNode.removeChild(warn);\n",
       "}\n",
       "$3Dmolpromise.then(function() {\n",
       "viewer_1715594549622987 = $3Dmol.createViewer(document.getElementById(\"3dmolviewer_1715594549622987\"),{backgroundColor:\"white\"});\n",
       "viewer_1715594549622987.zoomTo();\n",
       "\tviewer_1715594549622987.removeAllModels();\n",
       "\tviewer_1715594549622987.addModel(\"\\n     RDKit          3D\\n\\n 12 11  0  0  0  0  0  0  0  0999 V2000\\n    5.7717    9.1698   23.6376 C   0  0  0  0  0  0  0  0  0  0  0  0\\n    6.7242    9.6375   24.7230 C   0  0  0  0  0  0  0  0  0  0  0  0\\n    5.5861    7.5916   21.6412 C   0  0  0  0  0  0  0  0  0  0  0  0\\n    5.0820    8.6126   20.6255 C   0  0  0  0  0  0  0  0  0  0  0  0\\n    6.1297    9.1506   19.6293 C   0  0  0  0  0  0  0  0  0  0  0  0\\n    6.0431   10.6088   25.6898 C   0  0  0  0  0  0  0  0  0  0  0  0\\n    7.0292   11.1731   26.7099 C   0  0  0  0  0  0  0  0  0  0  0  0\\n    6.4502    8.1756   22.7345 N   0  0  0  0  0  0  0  0  0  0  0  0\\n    8.2379   11.1955   19.1415 O   0  0  0  0  0  0  0  0  0  0  0  0\\n    8.3689    9.4387   21.2560 O   0  0  0  0  0  0  0  0  0  0  0  0\\n    6.6612   11.4956   21.2392 O   0  0  0  0  0  0  0  0  0  0  0  0\\n    7.3817   10.3805   20.2665 Si  0  0  0  0  0  4  0  0  0  0  0  0\\n  2  1  1  0\\n  4  3  1  0\\n  5  4  1  0\\n  6  2  1  0\\n  7  6  1  0\\n  8  3  1  0\\n  8  1  1  0\\n 12 10  1  0\\n 12  5  1  0\\n 12 11  1  0\\n 12  9  1  0\\nM  CHG  1   8   1\\nM  END\\n\",\"sdf\");\n",
       "\tviewer_1715594549622987.setStyle({\"stick\": {}});\n",
       "\tviewer_1715594549622987.addModel(\"\\n     RDKit          3D\\n\\n 12 11  0  0  0  0  0  0  0  0999 V2000\\n    6.2272    9.6251   24.2825 C   0  0  0  0  0  0  0  0  0  0  0  0\\n    5.6481    9.4880   25.6796 C   0  0  0  0  0  0  0  0  0  0  0  0\\n    5.5756    9.5255   21.7999 C   0  0  0  0  0  0  0  0  0  0  0  0\\n    6.6706    8.5507   21.3863 C   0  0  0  0  0  0  0  0  0  0  0  0\\n    6.8752    8.5523   19.8611 C   0  0  0  0  0  0  0  0  0  0  0  0\\n    6.6869    9.8103   26.7594 C   0  0  0  0  0  0  0  0  0  0  0  0\\n    6.1036    9.6667   28.1645 C   0  0  0  0  0  0  0  0  0  0  0  0\\n    5.1698    9.3258   23.2441 N   0  0  0  0  0  0  0  0  0  0  0  0\\n    7.6467   10.1657   17.5115 O   0  0  0  0  0  0  0  0  0  0  0  0\\n    8.9342   10.4071   19.9605 O   0  0  0  0  0  0  0  0  0  0  0  0\\n    6.4105   11.3465   19.4977 O   0  0  0  0  0  0  0  0  0  0  0  0\\n    7.5176   10.1662   19.1469 Si  0  0  0  0  0  4  0  0  0  0  0  0\\n  2  1  1  0\\n  4  3  1  0\\n  5  4  1  0\\n  6  2  1  0\\n  7  6  1  0\\n  8  3  1  0\\n  8  1  1  0\\n 12 10  1  0\\n 12  5  1  0\\n 12 11  1  0\\n 12  9  1  0\\nM  CHG  1   8   1\\nM  END\\n\",\"sdf\");\n",
       "\tviewer_1715594549622987.setStyle({\"stick\": {}});\n",
       "\tviewer_1715594549622987.setStyle({\"model\": 0},{\"line\": {\"colorscheme\": \"cyanCarbon\"}});\n",
       "\tviewer_1715594549622987.setStyle({\"model\": 1},{\"line\": {\"colorscheme\": \"redCarbon\"}});\n",
       "\tviewer_1715594549622987.zoomTo();\n",
       "viewer_1715594549622987.render();\n",
       "});\n",
       "</script>"
      ]
     },
     "metadata": {},
     "output_type": "display_data"
    }
   ],
   "source": [
    "d2 = rdMolAlign.GetBestRMS(molrdkit_no_h,molrdkit_no_h,prbId=1,refId=4)\n",
    "print(d2)\n",
    "drawit(molrdkit_no_h,[1,4])"
   ]
  },
  {
   "cell_type": "code",
   "execution_count": null,
   "metadata": {},
   "outputs": [],
   "source": []
  }
 ],
 "metadata": {
  "kernelspec": {
   "display_name": "Python 3 (ipykernel)",
   "language": "python",
   "name": "python3"
  },
  "language_info": {
   "codemirror_mode": {
    "name": "ipython",
    "version": 3
   },
   "file_extension": ".py",
   "mimetype": "text/x-python",
   "name": "python",
   "nbconvert_exporter": "python",
   "pygments_lexer": "ipython3",
   "version": "3.10.12"
  }
 },
 "nbformat": 4,
 "nbformat_minor": 4
}
