{
 "cells": [
  {
   "cell_type": "code",
   "execution_count": 1,
   "metadata": {},
   "outputs": [],
   "source": [
    "cluster_type=\"RMSD\"\n",
    "logger=None\n",
    "threshold=1.0\n"
   ]
  },
  {
   "cell_type": "code",
   "execution_count": 2,
   "metadata": {},
   "outputs": [],
   "source": [
    "import glob\n",
    "import os\n",
    "from collections import defaultdict\n",
    "from rdkit import Chem\n",
    "from rdkit.Chem import rdMolAlign,AllChem\n",
    "from rdkit.Chem.Draw import IPythonConsole\n",
    "from rdkit.ML.Cluster import Butina\n",
    "from rdkit.Chem.Draw import rdDepictor, rdMolDraw2D\n",
    "\n",
    "import matplotlib\n",
    "matplotlib.use('TkAgg')\n",
    "import matplotlib.pyplot as plt"
   ]
  },
  {
   "cell_type": "code",
   "execution_count": 3,
   "metadata": {},
   "outputs": [],
   "source": [
    "import py3Dmol\n",
    "def drawit(m, cids=[-1], p=None, removeHs=True,\n",
    "           colors=('cyanCarbon','redCarbon','blueCarbon','magentaCarbon','whiteCarbon','purpleCarbon')):\n",
    "        if removeHs:\n",
    "            m = Chem.RemoveHs(m)\n",
    "        if p is None:\n",
    "            p = py3Dmol.view(width=400, height=400)\n",
    "        p.removeAllModels()\n",
    "        for i,cid in enumerate(cids):\n",
    "            IPythonConsole.addMolToView(m,p,confId=cid)\n",
    "        for i,cid in enumerate(cids):\n",
    "            p.setStyle({'model':i,},\n",
    "                            {'stick':{'colorscheme':colors[i%len(colors)]}})\n",
    "        p.zoomTo()\n",
    "        return p.show()"
   ]
  },
  {
   "cell_type": "code",
   "execution_count": 4,
   "metadata": {
    "pycharm": {
     "name": "#%%\n"
    }
   },
   "outputs": [],
   "source": [
    "    # Type of clustering\n",
    "    clusters_type_list = [\"RMSD\", \"TFD\"]\n",
    "    if cluster_type.upper() not in clusters_type_list:\n",
    "        m = '\\n\\t\\t ERROR: Type of clustering \"{}\" is not allowed.\\n'\n",
    "        m += '\\t\\t ERROR: Allowing values are RMSD or TFD.\\n'\n",
    "        print(m) if logger is None else logger.error(m)\n",
    "    cluster_type = cluster_type.upper()"
   ]
  },
  {
   "cell_type": "code",
   "execution_count": 5,
   "metadata": {},
   "outputs": [],
   "source": [
    "    # Load pdb or mol2\n",
    "    id_to_file_dict = defaultdict()\n",
    "    extension = \"pdb\"\n",
    "    list_files = sorted(glob.glob(os.path.join(\"./01-PDBs_OUT\", \"*.{}\".format(extension))))\n",
    "    nfiles = len(list_files)\n",
    "    if extension == \"mol2\":\n",
    "        molrdkit = Chem.MolFromMol2File(list_files[0], removeHs=False)\n",
    "    elif extension == \"pdb\":\n",
    "        molrdkit = Chem.MolFromPDBFile(list_files[0], removeHs=False)\n",
    "    else:\n",
    "        m = '\\n\\t\\t ERROR: \"{}\" files are not still supported in clusterize rdkit.\\n'.format(extension)\n",
    "        print(m) if logger is None else logger.error(m)\n",
    "        exit()\n",
    "    molrdkit.RemoveAllConformers()"
   ]
  },
  {
   "cell_type": "code",
   "execution_count": 6,
   "metadata": {},
   "outputs": [],
   "source": [
    "    # Assing conformers\n",
    "    nconf = 0\n",
    "    for iconf in range(0, nfiles):\n",
    "\n",
    "        if extension == \"mol2\":\n",
    "            mtmp = Chem.MolFromMol2File(list_files[iconf], removeHs=False)\n",
    "        elif extension == \"pdb\":\n",
    "            mtmp = Chem.MolFromPDBFile(list_files[iconf], removeHs=False)\n",
    "        else:\n",
    "            m = \"\\n\\t\\t ERROR: {} files are not still soported\\n\".format(extension)\n",
    "            print(m) if logger is None else logger.error(m)\n",
    "            exit()\n",
    "        conf = Chem.Conformer(mtmp.GetConformer(0))\n",
    "        molrdkit.AddConformer(conf, assignId=True)\n",
    "        id_to_file_dict[nconf] = list_files[iconf]\n",
    "        nconf += 1\n"
   ]
  },
  {
   "cell_type": "code",
   "execution_count": 7,
   "metadata": {},
   "outputs": [
    {
     "name": "stdout",
     "output_type": "stream",
     "text": [
      "\t\t Number of initial conformers: 5\n",
      "\t\t Total Number of atoms: 32\n",
      "\t\t Remove Hydrogens to perform the clustering\n",
      "\t\t Heavy Number of atoms: 12\n",
      "\n"
     ]
    }
   ],
   "source": [
    "     # Remove Hydrogens ==================================================================\n",
    "     m = \"\\t\\t Number of initial conformers: {}\\n\".format(molrdkit.GetNumConformers())\n",
    "     m += \"\\t\\t Total Number of atoms: {}\\n\".format(molrdkit.GetNumAtoms())\n",
    "     molrdkit_no_h = Chem.RemoveHs(molrdkit)\n",
    "     m += \"\\t\\t Remove Hydrogens to perform the clustering\\n\"\n",
    "     m += \"\\t\\t Heavy Number of atoms: {}\\n\".format(molrdkit_no_h.GetNumAtoms())\n",
    "     print(m) if logger is None else logger.info(m)"
   ]
  },
  {
   "cell_type": "code",
   "execution_count": 8,
   "metadata": {},
   "outputs": [],
   "source": [
    "def draw_molecule(mol, outfile):\n",
    "    d2d = rdMolDraw2D.MolDraw2DCairo(300, 200)\n",
    "    d2d.DrawMolecule(mol)\n",
    "    d2d.FinishDrawing()\n",
    "    d2d.WriteDrawingText(outfile)\n",
    "\n",
    "large_mol = AllChem.MolFromPDBFile(\"./01-PDBs_OUT/Conf_0001_opt.pdb\")\n",
    "a = AllChem.Compute2DCoords(large_mol)\n",
    "a\n",
    "draw_molecule(large_mol, 'large_mol.png')"
   ]
  },
  {
   "cell_type": "code",
   "execution_count": 9,
   "metadata": {},
   "outputs": [
    {
     "name": "stdout",
     "output_type": "stream",
     "text": [
      "VMD        [1.8680383125082918, 1.3780028086884284, 1.4662306676359846, 1.7875143752659424]\n",
      "AlignMol   [2.2057437491014182, 1.6430912889341587, 2.1610522351431, 2.2964094068351915]\n",
      "GetBestRMS [1.5543315169697416, 0.26181457558142607, 1.3228042510772937, 1.7873428803475213]\n"
     ]
    }
   ],
   "source": [
    "    # Allign conformers using VMD algorithm\n",
    "    rmsd_vmd = []\n",
    "    for cid in range(1, nconf):\n",
    "        rmsd_vmd.append(AllChem.GetConformerRMS(molrdkit, 0, cid, prealigned=False))\n",
    "    print(\"VMD       \", rmsd_vmd)\n",
    "    # Allign conformers using AlignMol algorithm\n",
    "    rmsd_AlignMol = []\n",
    "    for i in range(1, molrdkit.GetNumConformers()):\n",
    "        d = rdMolAlign.AlignMol(molrdkit, molrdkit, prbCid=i, refCid=0)\n",
    "        rmsd_AlignMol.append(d)    \n",
    "    print(\"AlignMol  \",rmsd_AlignMol)\n",
    "    # Allign conformers using GetBestRMS algorithm\n",
    "    rmsd_GetBestRMS = []\n",
    "    for i in range(1, molrdkit.GetNumConformers()):\n",
    "        d = rdMolAlign.GetBestRMS(molrdkit, molrdkit, prbId=i, refId=0)\n",
    "        rmsd_GetBestRMS.append(d)\n",
    "    print(\"GetBestRMS\", rmsd_GetBestRMS)"
   ]
  },
  {
   "cell_type": "code",
   "execution_count": 10,
   "metadata": {},
   "outputs": [
    {
     "name": "stdout",
     "output_type": "stream",
     "text": [
      "VMD        [0.8769190681038447, 1.3062257489437616, 0.8020211360203033, 1.4077571872946704]\n"
     ]
    },
    {
     "data": {
      "application/3dmoljs_load.v0": "<div id=\"3dmolviewer_17156939659150913\"  style=\"position: relative; width: 400px; height: 400px;\">\n        <p id=\"3dmolwarning_17156939659150913\" style=\"background-color:#ffcccc;color:black\">3Dmol.js failed to load for some reason.  Please check your browser console for error messages.<br></p>\n        </div>\n<script>\n\nvar loadScriptAsync = function(uri){\n  return new Promise((resolve, reject) => {\n    //this is to ignore the existence of requirejs amd\n    var savedexports, savedmodule;\n    if (typeof exports !== 'undefined') savedexports = exports;\n    else exports = {}\n    if (typeof module !== 'undefined') savedmodule = module;\n    else module = {}\n\n    var tag = document.createElement('script');\n    tag.src = uri;\n    tag.async = true;\n    tag.onload = () => {\n        exports = savedexports;\n        module = savedmodule;\n        resolve();\n    };\n  var firstScriptTag = document.getElementsByTagName('script')[0];\n  firstScriptTag.parentNode.insertBefore(tag, firstScriptTag);\n});\n};\n\nif(typeof $3Dmolpromise === 'undefined') {\n$3Dmolpromise = null;\n  $3Dmolpromise = loadScriptAsync('https://cdnjs.cloudflare.com/ajax/libs/3Dmol/2.1.0/3Dmol-min.js');\n}\n\nvar viewer_17156939659150913 = null;\nvar warn = document.getElementById(\"3dmolwarning_17156939659150913\");\nif(warn) {\n    warn.parentNode.removeChild(warn);\n}\n$3Dmolpromise.then(function() {\nviewer_17156939659150913 = $3Dmol.createViewer(document.getElementById(\"3dmolviewer_17156939659150913\"),{backgroundColor:\"white\"});\nviewer_17156939659150913.zoomTo();\n\tviewer_17156939659150913.removeAllModels();\n\tviewer_17156939659150913.addModel(\"\\n     RDKit          3D\\n\\n 12 11  0  0  0  0  0  0  0  0999 V2000\\n    6.3360    8.8350   23.6700 C   0  0  0  0  0  0  0  0  0  0  0  0\\n    6.2090    9.9550   24.6840 C   0  0  0  0  0  0  0  0  0  0  0  0\\n    5.2210    7.8040   21.6230 C   0  0  0  0  0  0  0  0  0  0  0  0\\n    6.4660    7.7250   20.7430 C   0  0  0  0  0  0  0  0  0  0  0  0\\n    6.6280    8.8380   19.6890 C   0  0  0  0  0  0  0  0  0  0  0  0\\n    7.3310    9.8830   25.7220 C   0  0  0  0  0  0  0  0  0  0  0  0\\n    7.2620   11.0430   26.7110 C   0  0  0  0  0  0  0  0  0  0  0  0\\n    5.2330    8.9160   22.6500 N   0  0  0  0  0  0  0  0  0  0  0  0\\n    7.3670   11.6620   19.1070 O   0  0  0  0  0  0  0  0  0  0  0  0\\n    8.4240   10.2840   21.2660 O   0  0  0  0  0  0  0  0  0  0  0  0\\n    5.8540   11.1490   21.1610 O   0  0  0  0  0  0  0  0  0  0  0  0\\n    7.1350   10.5360   20.2680 Si  0  0  0  0  0  4  0  0  0  0  0  0\\n  2  1  1  0\\n  4  3  1  0\\n  5  4  1  0\\n  6  2  1  0\\n  7  6  1  0\\n  8  3  1  0\\n  8  1  1  0\\n 12 10  1  0\\n 12  5  1  0\\n 12 11  1  0\\n 12  9  1  0\\nM  CHG  1   8   1\\nM  END\\n\",\"sdf\");\n\tviewer_17156939659150913.setStyle({\"stick\": {}});\n\tviewer_17156939659150913.addModel(\"\\n     RDKit          3D\\n\\n 12 11  0  0  0  0  0  0  0  0999 V2000\\n    6.1430    8.9281   23.6732 C   0  0  0  0  0  0  0  0  0  0  0  0\\n    6.0362   10.0951   24.6409 C   0  0  0  0  0  0  0  0  0  0  0  0\\n    5.0850    7.9629   21.5530 C   0  0  0  0  0  0  0  0  0  0  0  0\\n    6.3710    7.7084   20.7762 C   0  0  0  0  0  0  0  0  0  0  0  0\\n    6.7408    8.7611   19.7137 C   0  0  0  0  0  0  0  0  0  0  0  0\\n    6.9602    9.9178   25.8496 C   0  0  0  0  0  0  0  0  0  0  0  0\\n    6.9427   11.1430   26.7604 C   0  0  0  0  0  0  0  0  0  0  0  0\\n    5.1686    9.1041   22.5394 N   0  0  0  0  0  0  0  0  0  0  0  0\\n    6.1183   11.1616   21.0369 O   0  0  0  0  0  0  0  0  0  0  0  0\\n    7.9654   11.1920   18.9679 O   0  0  0  0  0  0  0  0  0  0  0  0\\n    8.5212   10.2535   21.5020 O   0  0  0  0  0  0  0  0  0  0  0  0\\n    7.4136   10.4023   20.2809 Si  0  0  0  0  0  4  0  0  0  0  0  0\\n  2  1  1  0\\n  4  3  1  0\\n  5  4  1  0\\n  6  2  1  0\\n  7  6  1  0\\n  8  3  1  0\\n  8  1  1  0\\n 12 10  1  0\\n 12  5  1  0\\n 12 11  1  0\\n 12  9  1  0\\nM  CHG  1   8   1\\nM  END\\n\",\"sdf\");\n\tviewer_17156939659150913.setStyle({\"stick\": {}});\n\tviewer_17156939659150913.setStyle({\"model\": 0},{\"stick\": {\"colorscheme\": \"cyanCarbon\"}});\n\tviewer_17156939659150913.setStyle({\"model\": 1},{\"stick\": {\"colorscheme\": \"redCarbon\"}});\n\tviewer_17156939659150913.zoomTo();\nviewer_17156939659150913.render();\n});\n</script>",
      "text/html": [
       "<div id=\"3dmolviewer_17156939659150913\"  style=\"position: relative; width: 400px; height: 400px;\">\n",
       "        <p id=\"3dmolwarning_17156939659150913\" style=\"background-color:#ffcccc;color:black\">3Dmol.js failed to load for some reason.  Please check your browser console for error messages.<br></p>\n",
       "        </div>\n",
       "<script>\n",
       "\n",
       "var loadScriptAsync = function(uri){\n",
       "  return new Promise((resolve, reject) => {\n",
       "    //this is to ignore the existence of requirejs amd\n",
       "    var savedexports, savedmodule;\n",
       "    if (typeof exports !== 'undefined') savedexports = exports;\n",
       "    else exports = {}\n",
       "    if (typeof module !== 'undefined') savedmodule = module;\n",
       "    else module = {}\n",
       "\n",
       "    var tag = document.createElement('script');\n",
       "    tag.src = uri;\n",
       "    tag.async = true;\n",
       "    tag.onload = () => {\n",
       "        exports = savedexports;\n",
       "        module = savedmodule;\n",
       "        resolve();\n",
       "    };\n",
       "  var firstScriptTag = document.getElementsByTagName('script')[0];\n",
       "  firstScriptTag.parentNode.insertBefore(tag, firstScriptTag);\n",
       "});\n",
       "};\n",
       "\n",
       "if(typeof $3Dmolpromise === 'undefined') {\n",
       "$3Dmolpromise = null;\n",
       "  $3Dmolpromise = loadScriptAsync('https://cdnjs.cloudflare.com/ajax/libs/3Dmol/2.1.0/3Dmol-min.js');\n",
       "}\n",
       "\n",
       "var viewer_17156939659150913 = null;\n",
       "var warn = document.getElementById(\"3dmolwarning_17156939659150913\");\n",
       "if(warn) {\n",
       "    warn.parentNode.removeChild(warn);\n",
       "}\n",
       "$3Dmolpromise.then(function() {\n",
       "viewer_17156939659150913 = $3Dmol.createViewer(document.getElementById(\"3dmolviewer_17156939659150913\"),{backgroundColor:\"white\"});\n",
       "viewer_17156939659150913.zoomTo();\n",
       "\tviewer_17156939659150913.removeAllModels();\n",
       "\tviewer_17156939659150913.addModel(\"\\n     RDKit          3D\\n\\n 12 11  0  0  0  0  0  0  0  0999 V2000\\n    6.3360    8.8350   23.6700 C   0  0  0  0  0  0  0  0  0  0  0  0\\n    6.2090    9.9550   24.6840 C   0  0  0  0  0  0  0  0  0  0  0  0\\n    5.2210    7.8040   21.6230 C   0  0  0  0  0  0  0  0  0  0  0  0\\n    6.4660    7.7250   20.7430 C   0  0  0  0  0  0  0  0  0  0  0  0\\n    6.6280    8.8380   19.6890 C   0  0  0  0  0  0  0  0  0  0  0  0\\n    7.3310    9.8830   25.7220 C   0  0  0  0  0  0  0  0  0  0  0  0\\n    7.2620   11.0430   26.7110 C   0  0  0  0  0  0  0  0  0  0  0  0\\n    5.2330    8.9160   22.6500 N   0  0  0  0  0  0  0  0  0  0  0  0\\n    7.3670   11.6620   19.1070 O   0  0  0  0  0  0  0  0  0  0  0  0\\n    8.4240   10.2840   21.2660 O   0  0  0  0  0  0  0  0  0  0  0  0\\n    5.8540   11.1490   21.1610 O   0  0  0  0  0  0  0  0  0  0  0  0\\n    7.1350   10.5360   20.2680 Si  0  0  0  0  0  4  0  0  0  0  0  0\\n  2  1  1  0\\n  4  3  1  0\\n  5  4  1  0\\n  6  2  1  0\\n  7  6  1  0\\n  8  3  1  0\\n  8  1  1  0\\n 12 10  1  0\\n 12  5  1  0\\n 12 11  1  0\\n 12  9  1  0\\nM  CHG  1   8   1\\nM  END\\n\",\"sdf\");\n",
       "\tviewer_17156939659150913.setStyle({\"stick\": {}});\n",
       "\tviewer_17156939659150913.addModel(\"\\n     RDKit          3D\\n\\n 12 11  0  0  0  0  0  0  0  0999 V2000\\n    6.1430    8.9281   23.6732 C   0  0  0  0  0  0  0  0  0  0  0  0\\n    6.0362   10.0951   24.6409 C   0  0  0  0  0  0  0  0  0  0  0  0\\n    5.0850    7.9629   21.5530 C   0  0  0  0  0  0  0  0  0  0  0  0\\n    6.3710    7.7084   20.7762 C   0  0  0  0  0  0  0  0  0  0  0  0\\n    6.7408    8.7611   19.7137 C   0  0  0  0  0  0  0  0  0  0  0  0\\n    6.9602    9.9178   25.8496 C   0  0  0  0  0  0  0  0  0  0  0  0\\n    6.9427   11.1430   26.7604 C   0  0  0  0  0  0  0  0  0  0  0  0\\n    5.1686    9.1041   22.5394 N   0  0  0  0  0  0  0  0  0  0  0  0\\n    6.1183   11.1616   21.0369 O   0  0  0  0  0  0  0  0  0  0  0  0\\n    7.9654   11.1920   18.9679 O   0  0  0  0  0  0  0  0  0  0  0  0\\n    8.5212   10.2535   21.5020 O   0  0  0  0  0  0  0  0  0  0  0  0\\n    7.4136   10.4023   20.2809 Si  0  0  0  0  0  4  0  0  0  0  0  0\\n  2  1  1  0\\n  4  3  1  0\\n  5  4  1  0\\n  6  2  1  0\\n  7  6  1  0\\n  8  3  1  0\\n  8  1  1  0\\n 12 10  1  0\\n 12  5  1  0\\n 12 11  1  0\\n 12  9  1  0\\nM  CHG  1   8   1\\nM  END\\n\",\"sdf\");\n",
       "\tviewer_17156939659150913.setStyle({\"stick\": {}});\n",
       "\tviewer_17156939659150913.setStyle({\"model\": 0},{\"stick\": {\"colorscheme\": \"cyanCarbon\"}});\n",
       "\tviewer_17156939659150913.setStyle({\"model\": 1},{\"stick\": {\"colorscheme\": \"redCarbon\"}});\n",
       "\tviewer_17156939659150913.zoomTo();\n",
       "viewer_17156939659150913.render();\n",
       "});\n",
       "</script>"
      ]
     },
     "metadata": {},
     "output_type": "display_data"
    },
    {
     "name": "stdout",
     "output_type": "stream",
     "text": [
      "GetBestRMS [0.8769190681039506, 0.117953604190158, 0.8020211360203624, 1.407757187275025]\n"
     ]
    },
    {
     "data": {
      "application/3dmoljs_load.v0": "<div id=\"3dmolviewer_17156939659178133\"  style=\"position: relative; width: 400px; height: 400px;\">\n        <p id=\"3dmolwarning_17156939659178133\" style=\"background-color:#ffcccc;color:black\">3Dmol.js failed to load for some reason.  Please check your browser console for error messages.<br></p>\n        </div>\n<script>\n\nvar loadScriptAsync = function(uri){\n  return new Promise((resolve, reject) => {\n    //this is to ignore the existence of requirejs amd\n    var savedexports, savedmodule;\n    if (typeof exports !== 'undefined') savedexports = exports;\n    else exports = {}\n    if (typeof module !== 'undefined') savedmodule = module;\n    else module = {}\n\n    var tag = document.createElement('script');\n    tag.src = uri;\n    tag.async = true;\n    tag.onload = () => {\n        exports = savedexports;\n        module = savedmodule;\n        resolve();\n    };\n  var firstScriptTag = document.getElementsByTagName('script')[0];\n  firstScriptTag.parentNode.insertBefore(tag, firstScriptTag);\n});\n};\n\nif(typeof $3Dmolpromise === 'undefined') {\n$3Dmolpromise = null;\n  $3Dmolpromise = loadScriptAsync('https://cdnjs.cloudflare.com/ajax/libs/3Dmol/2.1.0/3Dmol-min.js');\n}\n\nvar viewer_17156939659178133 = null;\nvar warn = document.getElementById(\"3dmolwarning_17156939659178133\");\nif(warn) {\n    warn.parentNode.removeChild(warn);\n}\n$3Dmolpromise.then(function() {\nviewer_17156939659178133 = $3Dmol.createViewer(document.getElementById(\"3dmolviewer_17156939659178133\"),{backgroundColor:\"white\"});\nviewer_17156939659178133.zoomTo();\n\tviewer_17156939659178133.removeAllModels();\n\tviewer_17156939659178133.addModel(\"\\n     RDKit          3D\\n\\n 12 11  0  0  0  0  0  0  0  0999 V2000\\n    6.3360    8.8350   23.6700 C   0  0  0  0  0  0  0  0  0  0  0  0\\n    6.2090    9.9550   24.6840 C   0  0  0  0  0  0  0  0  0  0  0  0\\n    5.2210    7.8040   21.6230 C   0  0  0  0  0  0  0  0  0  0  0  0\\n    6.4660    7.7250   20.7430 C   0  0  0  0  0  0  0  0  0  0  0  0\\n    6.6280    8.8380   19.6890 C   0  0  0  0  0  0  0  0  0  0  0  0\\n    7.3310    9.8830   25.7220 C   0  0  0  0  0  0  0  0  0  0  0  0\\n    7.2620   11.0430   26.7110 C   0  0  0  0  0  0  0  0  0  0  0  0\\n    5.2330    8.9160   22.6500 N   0  0  0  0  0  0  0  0  0  0  0  0\\n    7.3670   11.6620   19.1070 O   0  0  0  0  0  0  0  0  0  0  0  0\\n    8.4240   10.2840   21.2660 O   0  0  0  0  0  0  0  0  0  0  0  0\\n    5.8540   11.1490   21.1610 O   0  0  0  0  0  0  0  0  0  0  0  0\\n    7.1350   10.5360   20.2680 Si  0  0  0  0  0  4  0  0  0  0  0  0\\n  2  1  1  0\\n  4  3  1  0\\n  5  4  1  0\\n  6  2  1  0\\n  7  6  1  0\\n  8  3  1  0\\n  8  1  1  0\\n 12 10  1  0\\n 12  5  1  0\\n 12 11  1  0\\n 12  9  1  0\\nM  CHG  1   8   1\\nM  END\\n\",\"sdf\");\n\tviewer_17156939659178133.setStyle({\"stick\": {}});\n\tviewer_17156939659178133.addModel(\"\\n     RDKit          3D\\n\\n 12 11  0  0  0  0  0  0  0  0999 V2000\\n    6.3797    8.8283   23.6741 C   0  0  0  0  0  0  0  0  0  0  0  0\\n    6.2484    9.9394   24.7028 C   0  0  0  0  0  0  0  0  0  0  0  0\\n    5.2176    7.8286   21.6256 C   0  0  0  0  0  0  0  0  0  0  0  0\\n    6.4357    7.7494   20.7135 C   0  0  0  0  0  0  0  0  0  0  0  0\\n    6.5767    8.8755   19.6715 C   0  0  0  0  0  0  0  0  0  0  0  0\\n    7.3068    9.8229   25.8037 C   0  0  0  0  0  0  0  0  0  0  0  0\\n    7.2516   11.0040   26.7696 C   0  0  0  0  0  0  0  0  0  0  0  0\\n    5.2793    8.9349   22.6526 N   0  0  0  0  0  0  0  0  0  0  0  0\\n    5.8390   11.1402   21.1639 O   0  0  0  0  0  0  0  0  0  0  0  0\\n    7.4466   11.4546   18.9255 O   0  0  0  0  0  0  0  0  0  0  0  0\\n    8.3614   10.4922   21.3438 O   0  0  0  0  0  0  0  0  0  0  0  0\\n    7.1232   10.5600   20.2473 Si  0  0  0  0  0  4  0  0  0  0  0  0\\n  2  1  1  0\\n  4  3  1  0\\n  5  4  1  0\\n  6  2  1  0\\n  7  6  1  0\\n  8  3  1  0\\n  8  1  1  0\\n 12 10  1  0\\n 12  5  1  0\\n 12 11  1  0\\n 12  9  1  0\\nM  CHG  1   8   1\\nM  END\\n\",\"sdf\");\n\tviewer_17156939659178133.setStyle({\"stick\": {}});\n\tviewer_17156939659178133.setStyle({\"model\": 0},{\"stick\": {\"colorscheme\": \"cyanCarbon\"}});\n\tviewer_17156939659178133.setStyle({\"model\": 1},{\"stick\": {\"colorscheme\": \"redCarbon\"}});\n\tviewer_17156939659178133.zoomTo();\nviewer_17156939659178133.render();\n});\n</script>",
      "text/html": [
       "<div id=\"3dmolviewer_17156939659178133\"  style=\"position: relative; width: 400px; height: 400px;\">\n",
       "        <p id=\"3dmolwarning_17156939659178133\" style=\"background-color:#ffcccc;color:black\">3Dmol.js failed to load for some reason.  Please check your browser console for error messages.<br></p>\n",
       "        </div>\n",
       "<script>\n",
       "\n",
       "var loadScriptAsync = function(uri){\n",
       "  return new Promise((resolve, reject) => {\n",
       "    //this is to ignore the existence of requirejs amd\n",
       "    var savedexports, savedmodule;\n",
       "    if (typeof exports !== 'undefined') savedexports = exports;\n",
       "    else exports = {}\n",
       "    if (typeof module !== 'undefined') savedmodule = module;\n",
       "    else module = {}\n",
       "\n",
       "    var tag = document.createElement('script');\n",
       "    tag.src = uri;\n",
       "    tag.async = true;\n",
       "    tag.onload = () => {\n",
       "        exports = savedexports;\n",
       "        module = savedmodule;\n",
       "        resolve();\n",
       "    };\n",
       "  var firstScriptTag = document.getElementsByTagName('script')[0];\n",
       "  firstScriptTag.parentNode.insertBefore(tag, firstScriptTag);\n",
       "});\n",
       "};\n",
       "\n",
       "if(typeof $3Dmolpromise === 'undefined') {\n",
       "$3Dmolpromise = null;\n",
       "  $3Dmolpromise = loadScriptAsync('https://cdnjs.cloudflare.com/ajax/libs/3Dmol/2.1.0/3Dmol-min.js');\n",
       "}\n",
       "\n",
       "var viewer_17156939659178133 = null;\n",
       "var warn = document.getElementById(\"3dmolwarning_17156939659178133\");\n",
       "if(warn) {\n",
       "    warn.parentNode.removeChild(warn);\n",
       "}\n",
       "$3Dmolpromise.then(function() {\n",
       "viewer_17156939659178133 = $3Dmol.createViewer(document.getElementById(\"3dmolviewer_17156939659178133\"),{backgroundColor:\"white\"});\n",
       "viewer_17156939659178133.zoomTo();\n",
       "\tviewer_17156939659178133.removeAllModels();\n",
       "\tviewer_17156939659178133.addModel(\"\\n     RDKit          3D\\n\\n 12 11  0  0  0  0  0  0  0  0999 V2000\\n    6.3360    8.8350   23.6700 C   0  0  0  0  0  0  0  0  0  0  0  0\\n    6.2090    9.9550   24.6840 C   0  0  0  0  0  0  0  0  0  0  0  0\\n    5.2210    7.8040   21.6230 C   0  0  0  0  0  0  0  0  0  0  0  0\\n    6.4660    7.7250   20.7430 C   0  0  0  0  0  0  0  0  0  0  0  0\\n    6.6280    8.8380   19.6890 C   0  0  0  0  0  0  0  0  0  0  0  0\\n    7.3310    9.8830   25.7220 C   0  0  0  0  0  0  0  0  0  0  0  0\\n    7.2620   11.0430   26.7110 C   0  0  0  0  0  0  0  0  0  0  0  0\\n    5.2330    8.9160   22.6500 N   0  0  0  0  0  0  0  0  0  0  0  0\\n    7.3670   11.6620   19.1070 O   0  0  0  0  0  0  0  0  0  0  0  0\\n    8.4240   10.2840   21.2660 O   0  0  0  0  0  0  0  0  0  0  0  0\\n    5.8540   11.1490   21.1610 O   0  0  0  0  0  0  0  0  0  0  0  0\\n    7.1350   10.5360   20.2680 Si  0  0  0  0  0  4  0  0  0  0  0  0\\n  2  1  1  0\\n  4  3  1  0\\n  5  4  1  0\\n  6  2  1  0\\n  7  6  1  0\\n  8  3  1  0\\n  8  1  1  0\\n 12 10  1  0\\n 12  5  1  0\\n 12 11  1  0\\n 12  9  1  0\\nM  CHG  1   8   1\\nM  END\\n\",\"sdf\");\n",
       "\tviewer_17156939659178133.setStyle({\"stick\": {}});\n",
       "\tviewer_17156939659178133.addModel(\"\\n     RDKit          3D\\n\\n 12 11  0  0  0  0  0  0  0  0999 V2000\\n    6.3797    8.8283   23.6741 C   0  0  0  0  0  0  0  0  0  0  0  0\\n    6.2484    9.9394   24.7028 C   0  0  0  0  0  0  0  0  0  0  0  0\\n    5.2176    7.8286   21.6256 C   0  0  0  0  0  0  0  0  0  0  0  0\\n    6.4357    7.7494   20.7135 C   0  0  0  0  0  0  0  0  0  0  0  0\\n    6.5767    8.8755   19.6715 C   0  0  0  0  0  0  0  0  0  0  0  0\\n    7.3068    9.8229   25.8037 C   0  0  0  0  0  0  0  0  0  0  0  0\\n    7.2516   11.0040   26.7696 C   0  0  0  0  0  0  0  0  0  0  0  0\\n    5.2793    8.9349   22.6526 N   0  0  0  0  0  0  0  0  0  0  0  0\\n    5.8390   11.1402   21.1639 O   0  0  0  0  0  0  0  0  0  0  0  0\\n    7.4466   11.4546   18.9255 O   0  0  0  0  0  0  0  0  0  0  0  0\\n    8.3614   10.4922   21.3438 O   0  0  0  0  0  0  0  0  0  0  0  0\\n    7.1232   10.5600   20.2473 Si  0  0  0  0  0  4  0  0  0  0  0  0\\n  2  1  1  0\\n  4  3  1  0\\n  5  4  1  0\\n  6  2  1  0\\n  7  6  1  0\\n  8  3  1  0\\n  8  1  1  0\\n 12 10  1  0\\n 12  5  1  0\\n 12 11  1  0\\n 12  9  1  0\\nM  CHG  1   8   1\\nM  END\\n\",\"sdf\");\n",
       "\tviewer_17156939659178133.setStyle({\"stick\": {}});\n",
       "\tviewer_17156939659178133.setStyle({\"model\": 0},{\"stick\": {\"colorscheme\": \"cyanCarbon\"}});\n",
       "\tviewer_17156939659178133.setStyle({\"model\": 1},{\"stick\": {\"colorscheme\": \"redCarbon\"}});\n",
       "\tviewer_17156939659178133.zoomTo();\n",
       "viewer_17156939659178133.render();\n",
       "});\n",
       "</script>"
      ]
     },
     "metadata": {},
     "output_type": "display_data"
    },
    {
     "data": {
      "application/3dmoljs_load.v0": "<div id=\"3dmolviewer_17156939659193242\"  style=\"position: relative; width: 400px; height: 400px;\">\n        <p id=\"3dmolwarning_17156939659193242\" style=\"background-color:#ffcccc;color:black\">3Dmol.js failed to load for some reason.  Please check your browser console for error messages.<br></p>\n        </div>\n<script>\n\nvar loadScriptAsync = function(uri){\n  return new Promise((resolve, reject) => {\n    //this is to ignore the existence of requirejs amd\n    var savedexports, savedmodule;\n    if (typeof exports !== 'undefined') savedexports = exports;\n    else exports = {}\n    if (typeof module !== 'undefined') savedmodule = module;\n    else module = {}\n\n    var tag = document.createElement('script');\n    tag.src = uri;\n    tag.async = true;\n    tag.onload = () => {\n        exports = savedexports;\n        module = savedmodule;\n        resolve();\n    };\n  var firstScriptTag = document.getElementsByTagName('script')[0];\n  firstScriptTag.parentNode.insertBefore(tag, firstScriptTag);\n});\n};\n\nif(typeof $3Dmolpromise === 'undefined') {\n$3Dmolpromise = null;\n  $3Dmolpromise = loadScriptAsync('https://cdnjs.cloudflare.com/ajax/libs/3Dmol/2.1.0/3Dmol-min.js');\n}\n\nvar viewer_17156939659193242 = null;\nvar warn = document.getElementById(\"3dmolwarning_17156939659193242\");\nif(warn) {\n    warn.parentNode.removeChild(warn);\n}\n$3Dmolpromise.then(function() {\nviewer_17156939659193242 = $3Dmol.createViewer(document.getElementById(\"3dmolviewer_17156939659193242\"),{backgroundColor:\"white\"});\nviewer_17156939659193242.zoomTo();\n\tviewer_17156939659193242.removeAllModels();\n\tviewer_17156939659193242.addModel(\"\\n     RDKit          3D\\n\\n 12 11  0  0  0  0  0  0  0  0999 V2000\\n    6.3360    8.8350   23.6700 C   0  0  0  0  0  0  0  0  0  0  0  0\\n    6.2090    9.9550   24.6840 C   0  0  0  0  0  0  0  0  0  0  0  0\\n    5.2210    7.8040   21.6230 C   0  0  0  0  0  0  0  0  0  0  0  0\\n    6.4660    7.7250   20.7430 C   0  0  0  0  0  0  0  0  0  0  0  0\\n    6.6280    8.8380   19.6890 C   0  0  0  0  0  0  0  0  0  0  0  0\\n    7.3310    9.8830   25.7220 C   0  0  0  0  0  0  0  0  0  0  0  0\\n    7.2620   11.0430   26.7110 C   0  0  0  0  0  0  0  0  0  0  0  0\\n    5.2330    8.9160   22.6500 N   0  0  0  0  0  0  0  0  0  0  0  0\\n    7.3670   11.6620   19.1070 O   0  0  0  0  0  0  0  0  0  0  0  0\\n    8.4240   10.2840   21.2660 O   0  0  0  0  0  0  0  0  0  0  0  0\\n    5.8540   11.1490   21.1610 O   0  0  0  0  0  0  0  0  0  0  0  0\\n    7.1350   10.5360   20.2680 Si  0  0  0  0  0  4  0  0  0  0  0  0\\n  2  1  1  0\\n  4  3  1  0\\n  5  4  1  0\\n  6  2  1  0\\n  7  6  1  0\\n  8  3  1  0\\n  8  1  1  0\\n 12 10  1  0\\n 12  5  1  0\\n 12 11  1  0\\n 12  9  1  0\\nM  CHG  1   8   1\\nM  END\\n\",\"sdf\");\n\tviewer_17156939659193242.setStyle({\"stick\": {}});\n\tviewer_17156939659193242.addModel(\"\\n     RDKit          3D\\n\\n 12 11  0  0  0  0  0  0  0  0999 V2000\\n    6.4565    9.4905   24.3036 C   0  0  0  0  0  0  0  0  0  0  0  0\\n    6.0596    9.1975   25.7398 C   0  0  0  0  0  0  0  0  0  0  0  0\\n    5.5960    9.3234   21.8891 C   0  0  0  0  0  0  0  0  0  0  0  0\\n    6.8217    8.6111   21.3316 C   0  0  0  0  0  0  0  0  0  0  0  0\\n    6.8691    8.6966   19.7959 C   0  0  0  0  0  0  0  0  0  0  0  0\\n    7.1118    9.7011   26.7340 C   0  0  0  0  0  0  0  0  0  0  0  0\\n    6.7130    9.4008   28.1782 C   0  0  0  0  0  0  0  0  0  0  0  0\\n    5.3856    9.0043   23.3534 N   0  0  0  0  0  0  0  0  0  0  0  0\\n    7.0546   10.4984   17.4640 O   0  0  0  0  0  0  0  0  0  0  0  0\\n    8.5015   10.9382   19.7935 O   0  0  0  0  0  0  0  0  0  0  0  0\\n    5.8052   11.3402   19.6083 O   0  0  0  0  0  0  0  0  0  0  0  0\\n    7.0912   10.4279   19.1025 Si  0  0  0  0  0  4  0  0  0  0  0  0\\n  2  1  1  0\\n  4  3  1  0\\n  5  4  1  0\\n  6  2  1  0\\n  7  6  1  0\\n  8  3  1  0\\n  8  1  1  0\\n 12 10  1  0\\n 12  5  1  0\\n 12 11  1  0\\n 12  9  1  0\\nM  CHG  1   8   1\\nM  END\\n\",\"sdf\");\n\tviewer_17156939659193242.setStyle({\"stick\": {}});\n\tviewer_17156939659193242.setStyle({\"model\": 0},{\"stick\": {\"colorscheme\": \"cyanCarbon\"}});\n\tviewer_17156939659193242.setStyle({\"model\": 1},{\"stick\": {\"colorscheme\": \"redCarbon\"}});\n\tviewer_17156939659193242.zoomTo();\nviewer_17156939659193242.render();\n});\n</script>",
      "text/html": [
       "<div id=\"3dmolviewer_17156939659193242\"  style=\"position: relative; width: 400px; height: 400px;\">\n",
       "        <p id=\"3dmolwarning_17156939659193242\" style=\"background-color:#ffcccc;color:black\">3Dmol.js failed to load for some reason.  Please check your browser console for error messages.<br></p>\n",
       "        </div>\n",
       "<script>\n",
       "\n",
       "var loadScriptAsync = function(uri){\n",
       "  return new Promise((resolve, reject) => {\n",
       "    //this is to ignore the existence of requirejs amd\n",
       "    var savedexports, savedmodule;\n",
       "    if (typeof exports !== 'undefined') savedexports = exports;\n",
       "    else exports = {}\n",
       "    if (typeof module !== 'undefined') savedmodule = module;\n",
       "    else module = {}\n",
       "\n",
       "    var tag = document.createElement('script');\n",
       "    tag.src = uri;\n",
       "    tag.async = true;\n",
       "    tag.onload = () => {\n",
       "        exports = savedexports;\n",
       "        module = savedmodule;\n",
       "        resolve();\n",
       "    };\n",
       "  var firstScriptTag = document.getElementsByTagName('script')[0];\n",
       "  firstScriptTag.parentNode.insertBefore(tag, firstScriptTag);\n",
       "});\n",
       "};\n",
       "\n",
       "if(typeof $3Dmolpromise === 'undefined') {\n",
       "$3Dmolpromise = null;\n",
       "  $3Dmolpromise = loadScriptAsync('https://cdnjs.cloudflare.com/ajax/libs/3Dmol/2.1.0/3Dmol-min.js');\n",
       "}\n",
       "\n",
       "var viewer_17156939659193242 = null;\n",
       "var warn = document.getElementById(\"3dmolwarning_17156939659193242\");\n",
       "if(warn) {\n",
       "    warn.parentNode.removeChild(warn);\n",
       "}\n",
       "$3Dmolpromise.then(function() {\n",
       "viewer_17156939659193242 = $3Dmol.createViewer(document.getElementById(\"3dmolviewer_17156939659193242\"),{backgroundColor:\"white\"});\n",
       "viewer_17156939659193242.zoomTo();\n",
       "\tviewer_17156939659193242.removeAllModels();\n",
       "\tviewer_17156939659193242.addModel(\"\\n     RDKit          3D\\n\\n 12 11  0  0  0  0  0  0  0  0999 V2000\\n    6.3360    8.8350   23.6700 C   0  0  0  0  0  0  0  0  0  0  0  0\\n    6.2090    9.9550   24.6840 C   0  0  0  0  0  0  0  0  0  0  0  0\\n    5.2210    7.8040   21.6230 C   0  0  0  0  0  0  0  0  0  0  0  0\\n    6.4660    7.7250   20.7430 C   0  0  0  0  0  0  0  0  0  0  0  0\\n    6.6280    8.8380   19.6890 C   0  0  0  0  0  0  0  0  0  0  0  0\\n    7.3310    9.8830   25.7220 C   0  0  0  0  0  0  0  0  0  0  0  0\\n    7.2620   11.0430   26.7110 C   0  0  0  0  0  0  0  0  0  0  0  0\\n    5.2330    8.9160   22.6500 N   0  0  0  0  0  0  0  0  0  0  0  0\\n    7.3670   11.6620   19.1070 O   0  0  0  0  0  0  0  0  0  0  0  0\\n    8.4240   10.2840   21.2660 O   0  0  0  0  0  0  0  0  0  0  0  0\\n    5.8540   11.1490   21.1610 O   0  0  0  0  0  0  0  0  0  0  0  0\\n    7.1350   10.5360   20.2680 Si  0  0  0  0  0  4  0  0  0  0  0  0\\n  2  1  1  0\\n  4  3  1  0\\n  5  4  1  0\\n  6  2  1  0\\n  7  6  1  0\\n  8  3  1  0\\n  8  1  1  0\\n 12 10  1  0\\n 12  5  1  0\\n 12 11  1  0\\n 12  9  1  0\\nM  CHG  1   8   1\\nM  END\\n\",\"sdf\");\n",
       "\tviewer_17156939659193242.setStyle({\"stick\": {}});\n",
       "\tviewer_17156939659193242.addModel(\"\\n     RDKit          3D\\n\\n 12 11  0  0  0  0  0  0  0  0999 V2000\\n    6.4565    9.4905   24.3036 C   0  0  0  0  0  0  0  0  0  0  0  0\\n    6.0596    9.1975   25.7398 C   0  0  0  0  0  0  0  0  0  0  0  0\\n    5.5960    9.3234   21.8891 C   0  0  0  0  0  0  0  0  0  0  0  0\\n    6.8217    8.6111   21.3316 C   0  0  0  0  0  0  0  0  0  0  0  0\\n    6.8691    8.6966   19.7959 C   0  0  0  0  0  0  0  0  0  0  0  0\\n    7.1118    9.7011   26.7340 C   0  0  0  0  0  0  0  0  0  0  0  0\\n    6.7130    9.4008   28.1782 C   0  0  0  0  0  0  0  0  0  0  0  0\\n    5.3856    9.0043   23.3534 N   0  0  0  0  0  0  0  0  0  0  0  0\\n    7.0546   10.4984   17.4640 O   0  0  0  0  0  0  0  0  0  0  0  0\\n    8.5015   10.9382   19.7935 O   0  0  0  0  0  0  0  0  0  0  0  0\\n    5.8052   11.3402   19.6083 O   0  0  0  0  0  0  0  0  0  0  0  0\\n    7.0912   10.4279   19.1025 Si  0  0  0  0  0  4  0  0  0  0  0  0\\n  2  1  1  0\\n  4  3  1  0\\n  5  4  1  0\\n  6  2  1  0\\n  7  6  1  0\\n  8  3  1  0\\n  8  1  1  0\\n 12 10  1  0\\n 12  5  1  0\\n 12 11  1  0\\n 12  9  1  0\\nM  CHG  1   8   1\\nM  END\\n\",\"sdf\");\n",
       "\tviewer_17156939659193242.setStyle({\"stick\": {}});\n",
       "\tviewer_17156939659193242.setStyle({\"model\": 0},{\"stick\": {\"colorscheme\": \"cyanCarbon\"}});\n",
       "\tviewer_17156939659193242.setStyle({\"model\": 1},{\"stick\": {\"colorscheme\": \"redCarbon\"}});\n",
       "\tviewer_17156939659193242.zoomTo();\n",
       "viewer_17156939659193242.render();\n",
       "});\n",
       "</script>"
      ]
     },
     "metadata": {},
     "output_type": "display_data"
    },
    {
     "data": {
      "application/3dmoljs_load.v0": "<div id=\"3dmolviewer_1715693965920525\"  style=\"position: relative; width: 400px; height: 400px;\">\n        <p id=\"3dmolwarning_1715693965920525\" style=\"background-color:#ffcccc;color:black\">3Dmol.js failed to load for some reason.  Please check your browser console for error messages.<br></p>\n        </div>\n<script>\n\nvar loadScriptAsync = function(uri){\n  return new Promise((resolve, reject) => {\n    //this is to ignore the existence of requirejs amd\n    var savedexports, savedmodule;\n    if (typeof exports !== 'undefined') savedexports = exports;\n    else exports = {}\n    if (typeof module !== 'undefined') savedmodule = module;\n    else module = {}\n\n    var tag = document.createElement('script');\n    tag.src = uri;\n    tag.async = true;\n    tag.onload = () => {\n        exports = savedexports;\n        module = savedmodule;\n        resolve();\n    };\n  var firstScriptTag = document.getElementsByTagName('script')[0];\n  firstScriptTag.parentNode.insertBefore(tag, firstScriptTag);\n});\n};\n\nif(typeof $3Dmolpromise === 'undefined') {\n$3Dmolpromise = null;\n  $3Dmolpromise = loadScriptAsync('https://cdnjs.cloudflare.com/ajax/libs/3Dmol/2.1.0/3Dmol-min.js');\n}\n\nvar viewer_1715693965920525 = null;\nvar warn = document.getElementById(\"3dmolwarning_1715693965920525\");\nif(warn) {\n    warn.parentNode.removeChild(warn);\n}\n$3Dmolpromise.then(function() {\nviewer_1715693965920525 = $3Dmol.createViewer(document.getElementById(\"3dmolviewer_1715693965920525\"),{backgroundColor:\"white\"});\nviewer_1715693965920525.zoomTo();\n\tviewer_1715693965920525.removeAllModels();\n\tviewer_1715693965920525.addModel(\"\\n     RDKit          3D\\n\\n 12 11  0  0  0  0  0  0  0  0999 V2000\\n    6.0401    8.9659   23.6806 C   0  0  0  0  0  0  0  0  0  0  0  0\\n    6.9603    9.6115   24.7007 C   0  0  0  0  0  0  0  0  0  0  0  0\\n    6.0271    7.4278   21.6447 C   0  0  0  0  0  0  0  0  0  0  0  0\\n    5.2210    8.3317   20.7165 C   0  0  0  0  0  0  0  0  0  0  0  0\\n    6.0303    9.1101   19.6588 C   0  0  0  0  0  0  0  0  0  0  0  0\\n    6.1722   10.3863   25.7592 C   0  0  0  0  0  0  0  0  0  0  0  0\\n    7.0978   11.1349   26.7154 C   0  0  0  0  0  0  0  0  0  0  0  0\\n    6.8366    8.1669   22.6847 N   0  0  0  0  0  0  0  0  0  0  0  0\\n    7.5836   11.5832   19.0797 O   0  0  0  0  0  0  0  0  0  0  0  0\\n    8.2886    9.8562   21.1034 O   0  0  0  0  0  0  0  0  0  0  0  0\\n    6.1755   11.4808   21.3119 O   0  0  0  0  0  0  0  0  0  0  0  0\\n    7.0330   10.5747   20.2384 Si  0  0  0  0  0  4  0  0  0  0  0  0\\n  2  1  1  0\\n  4  3  1  0\\n  5  4  1  0\\n  6  2  1  0\\n  7  6  1  0\\n  8  3  1  0\\n  8  1  1  0\\n 12 10  1  0\\n 12  5  1  0\\n 12 11  1  0\\n 12  9  1  0\\nM  CHG  1   8   1\\nM  END\\n\",\"sdf\");\n\tviewer_1715693965920525.setStyle({\"stick\": {}});\n\tviewer_1715693965920525.addModel(\"\\n     RDKit          3D\\n\\n 12 11  0  0  0  0  0  0  0  0999 V2000\\n    6.4565    9.4905   24.3036 C   0  0  0  0  0  0  0  0  0  0  0  0\\n    6.0596    9.1975   25.7398 C   0  0  0  0  0  0  0  0  0  0  0  0\\n    5.5960    9.3234   21.8891 C   0  0  0  0  0  0  0  0  0  0  0  0\\n    6.8217    8.6111   21.3316 C   0  0  0  0  0  0  0  0  0  0  0  0\\n    6.8691    8.6966   19.7959 C   0  0  0  0  0  0  0  0  0  0  0  0\\n    7.1118    9.7011   26.7340 C   0  0  0  0  0  0  0  0  0  0  0  0\\n    6.7130    9.4008   28.1782 C   0  0  0  0  0  0  0  0  0  0  0  0\\n    5.3856    9.0043   23.3534 N   0  0  0  0  0  0  0  0  0  0  0  0\\n    7.0546   10.4984   17.4640 O   0  0  0  0  0  0  0  0  0  0  0  0\\n    8.5015   10.9382   19.7935 O   0  0  0  0  0  0  0  0  0  0  0  0\\n    5.8052   11.3402   19.6083 O   0  0  0  0  0  0  0  0  0  0  0  0\\n    7.0912   10.4279   19.1025 Si  0  0  0  0  0  4  0  0  0  0  0  0\\n  2  1  1  0\\n  4  3  1  0\\n  5  4  1  0\\n  6  2  1  0\\n  7  6  1  0\\n  8  3  1  0\\n  8  1  1  0\\n 12 10  1  0\\n 12  5  1  0\\n 12 11  1  0\\n 12  9  1  0\\nM  CHG  1   8   1\\nM  END\\n\",\"sdf\");\n\tviewer_1715693965920525.setStyle({\"stick\": {}});\n\tviewer_1715693965920525.setStyle({\"model\": 0},{\"stick\": {\"colorscheme\": \"cyanCarbon\"}});\n\tviewer_1715693965920525.setStyle({\"model\": 1},{\"stick\": {\"colorscheme\": \"redCarbon\"}});\n\tviewer_1715693965920525.zoomTo();\nviewer_1715693965920525.render();\n});\n</script>",
      "text/html": [
       "<div id=\"3dmolviewer_1715693965920525\"  style=\"position: relative; width: 400px; height: 400px;\">\n",
       "        <p id=\"3dmolwarning_1715693965920525\" style=\"background-color:#ffcccc;color:black\">3Dmol.js failed to load for some reason.  Please check your browser console for error messages.<br></p>\n",
       "        </div>\n",
       "<script>\n",
       "\n",
       "var loadScriptAsync = function(uri){\n",
       "  return new Promise((resolve, reject) => {\n",
       "    //this is to ignore the existence of requirejs amd\n",
       "    var savedexports, savedmodule;\n",
       "    if (typeof exports !== 'undefined') savedexports = exports;\n",
       "    else exports = {}\n",
       "    if (typeof module !== 'undefined') savedmodule = module;\n",
       "    else module = {}\n",
       "\n",
       "    var tag = document.createElement('script');\n",
       "    tag.src = uri;\n",
       "    tag.async = true;\n",
       "    tag.onload = () => {\n",
       "        exports = savedexports;\n",
       "        module = savedmodule;\n",
       "        resolve();\n",
       "    };\n",
       "  var firstScriptTag = document.getElementsByTagName('script')[0];\n",
       "  firstScriptTag.parentNode.insertBefore(tag, firstScriptTag);\n",
       "});\n",
       "};\n",
       "\n",
       "if(typeof $3Dmolpromise === 'undefined') {\n",
       "$3Dmolpromise = null;\n",
       "  $3Dmolpromise = loadScriptAsync('https://cdnjs.cloudflare.com/ajax/libs/3Dmol/2.1.0/3Dmol-min.js');\n",
       "}\n",
       "\n",
       "var viewer_1715693965920525 = null;\n",
       "var warn = document.getElementById(\"3dmolwarning_1715693965920525\");\n",
       "if(warn) {\n",
       "    warn.parentNode.removeChild(warn);\n",
       "}\n",
       "$3Dmolpromise.then(function() {\n",
       "viewer_1715693965920525 = $3Dmol.createViewer(document.getElementById(\"3dmolviewer_1715693965920525\"),{backgroundColor:\"white\"});\n",
       "viewer_1715693965920525.zoomTo();\n",
       "\tviewer_1715693965920525.removeAllModels();\n",
       "\tviewer_1715693965920525.addModel(\"\\n     RDKit          3D\\n\\n 12 11  0  0  0  0  0  0  0  0999 V2000\\n    6.0401    8.9659   23.6806 C   0  0  0  0  0  0  0  0  0  0  0  0\\n    6.9603    9.6115   24.7007 C   0  0  0  0  0  0  0  0  0  0  0  0\\n    6.0271    7.4278   21.6447 C   0  0  0  0  0  0  0  0  0  0  0  0\\n    5.2210    8.3317   20.7165 C   0  0  0  0  0  0  0  0  0  0  0  0\\n    6.0303    9.1101   19.6588 C   0  0  0  0  0  0  0  0  0  0  0  0\\n    6.1722   10.3863   25.7592 C   0  0  0  0  0  0  0  0  0  0  0  0\\n    7.0978   11.1349   26.7154 C   0  0  0  0  0  0  0  0  0  0  0  0\\n    6.8366    8.1669   22.6847 N   0  0  0  0  0  0  0  0  0  0  0  0\\n    7.5836   11.5832   19.0797 O   0  0  0  0  0  0  0  0  0  0  0  0\\n    8.2886    9.8562   21.1034 O   0  0  0  0  0  0  0  0  0  0  0  0\\n    6.1755   11.4808   21.3119 O   0  0  0  0  0  0  0  0  0  0  0  0\\n    7.0330   10.5747   20.2384 Si  0  0  0  0  0  4  0  0  0  0  0  0\\n  2  1  1  0\\n  4  3  1  0\\n  5  4  1  0\\n  6  2  1  0\\n  7  6  1  0\\n  8  3  1  0\\n  8  1  1  0\\n 12 10  1  0\\n 12  5  1  0\\n 12 11  1  0\\n 12  9  1  0\\nM  CHG  1   8   1\\nM  END\\n\",\"sdf\");\n",
       "\tviewer_1715693965920525.setStyle({\"stick\": {}});\n",
       "\tviewer_1715693965920525.addModel(\"\\n     RDKit          3D\\n\\n 12 11  0  0  0  0  0  0  0  0999 V2000\\n    6.4565    9.4905   24.3036 C   0  0  0  0  0  0  0  0  0  0  0  0\\n    6.0596    9.1975   25.7398 C   0  0  0  0  0  0  0  0  0  0  0  0\\n    5.5960    9.3234   21.8891 C   0  0  0  0  0  0  0  0  0  0  0  0\\n    6.8217    8.6111   21.3316 C   0  0  0  0  0  0  0  0  0  0  0  0\\n    6.8691    8.6966   19.7959 C   0  0  0  0  0  0  0  0  0  0  0  0\\n    7.1118    9.7011   26.7340 C   0  0  0  0  0  0  0  0  0  0  0  0\\n    6.7130    9.4008   28.1782 C   0  0  0  0  0  0  0  0  0  0  0  0\\n    5.3856    9.0043   23.3534 N   0  0  0  0  0  0  0  0  0  0  0  0\\n    7.0546   10.4984   17.4640 O   0  0  0  0  0  0  0  0  0  0  0  0\\n    8.5015   10.9382   19.7935 O   0  0  0  0  0  0  0  0  0  0  0  0\\n    5.8052   11.3402   19.6083 O   0  0  0  0  0  0  0  0  0  0  0  0\\n    7.0912   10.4279   19.1025 Si  0  0  0  0  0  4  0  0  0  0  0  0\\n  2  1  1  0\\n  4  3  1  0\\n  5  4  1  0\\n  6  2  1  0\\n  7  6  1  0\\n  8  3  1  0\\n  8  1  1  0\\n 12 10  1  0\\n 12  5  1  0\\n 12 11  1  0\\n 12  9  1  0\\nM  CHG  1   8   1\\nM  END\\n\",\"sdf\");\n",
       "\tviewer_1715693965920525.setStyle({\"stick\": {}});\n",
       "\tviewer_1715693965920525.setStyle({\"model\": 0},{\"stick\": {\"colorscheme\": \"cyanCarbon\"}});\n",
       "\tviewer_1715693965920525.setStyle({\"model\": 1},{\"stick\": {\"colorscheme\": \"redCarbon\"}});\n",
       "\tviewer_1715693965920525.zoomTo();\n",
       "viewer_1715693965920525.render();\n",
       "});\n",
       "</script>"
      ]
     },
     "metadata": {},
     "output_type": "display_data"
    }
   ],
   "source": [
    "    # TEST allingment only with the first conformer\n",
    "    # Allign conformers using VMD algorithm\n",
    "    rmsd_noh_vmd = []\n",
    "    for cid in range(1, nconf):\n",
    "        rmsd_noh_vmd.append(AllChem.GetConformerRMS(molrdkit_no_h, 0, cid, prealigned=False))\n",
    "    print(\"VMD       \", rmsd_noh_vmd)\n",
    "    drawit(molrdkit_no_h, [0,2])\n",
    "    # Allign conformers using AlignMol algorithm\n",
    "    # rmsd_noh_AlignMol = []\n",
    "    # for i in range(1, molrdkit_no_h.GetNumConformers()):\n",
    "    #     d = rdMolAlign.AlignMol(molrdkit_no_h, molrdkit_no_h, prbCid=i, refCid=0)\n",
    "    #     rmsd_noh_AlignMol.append(d)    \n",
    "    # print(\"AlignMol  \",rmsd_noh_AlignMol)\n",
    "    # Allign conformers using GetBestRMS algorithm\n",
    "    rmsd_noh_GetBestRMS = []\n",
    "    for i in range(1, molrdkit_no_h.GetNumConformers()):\n",
    "        d = rdMolAlign.GetBestRMS(molrdkit_no_h, molrdkit_no_h, prbId=i, refId=0)\n",
    "        rmsd_noh_GetBestRMS.append(d)\n",
    "    print(\"GetBestRMS\", rmsd_noh_GetBestRMS)\n",
    "    drawit(molrdkit_no_h, [0,2])\n",
    "    drawit(molrdkit_no_h, [0,4])\n",
    "    drawit(molrdkit_no_h, [1,4])\n"
   ]
  },
  {
   "cell_type": "code",
   "execution_count": 11,
   "metadata": {},
   "outputs": [
    {
     "name": "stdout",
     "output_type": "stream",
     "text": [
      "(0.8769190681036912, 0.11795360418983672, 0.8749136860277505, 0.8020211360203624, 0.6929821435741474, 0.7988247500374526, 1.4077571872750787, 1.6548904503795034, 1.361270487680972, 1.2815068876909022)\n"
     ]
    }
   ],
   "source": [
    "m_rmsd_noh_getbest=rdMolAlign.GetAllConformerBestRMS(molrdkit_no_h)\n",
    "print(m_rmsd_noh_getbest)"
   ]
  },
  {
   "cell_type": "code",
   "execution_count": 12,
   "metadata": {},
   "outputs": [],
   "source": [
    "fig, ax = plt.subplots()\n",
    "ax.set_xlabel('RMSD')\n",
    "ax.set_ylabel('count')\n",
    "ax.hist(m_rmsd_noh_getbest)\n",
    "plt.show()"
   ]
  },
  {
   "cell_type": "code",
   "execution_count": 13,
   "metadata": {},
   "outputs": [],
   "source": [
    "    clusts = Butina.ClusterData(m_rmsd_noh_getbest, nconf, threshold, isDistData=True, reordering=True)\n"
   ]
  },
  {
   "cell_type": "code",
   "execution_count": 14,
   "metadata": {},
   "outputs": [
    {
     "name": "stdout",
     "output_type": "stream",
     "text": [
      "((3, 0, 1, 2), (4,))\n"
     ]
    }
   ],
   "source": [
    "print(clusts)\n"
   ]
  },
  {
   "cell_type": "code",
   "execution_count": 15,
   "metadata": {},
   "outputs": [
    {
     "name": "stderr",
     "output_type": "stream",
     "text": [
      "2024-05-14 15:39:29.474 \n",
      "  \u001b[33m\u001b[1mWarning:\u001b[0m to view this Streamlit app on a browser, run it with the following\n",
      "  command:\n",
      "\n",
      "    streamlit run /home/jramos/Programacion/sandboxes/sandbox_Castep-Parser/lib/python3.10/site-packages/ipykernel_launcher.py [ARGUMENTS]\n"
     ]
    }
   ],
   "source": [
    "from stmol import showmol\n",
    "import py3Dmol\n",
    "# 1A2C\n",
    "# Structure of thrombin inhibited by AERUGINOSIN298-A from a BLUE-GREEN ALGA\n",
    "xyzview = py3Dmol.view(query='pdb:1A2C') \n",
    "xyzview.setStyle({'cartoon':{'color':'spectrum'}})\n",
    "showmol(xyzview, height = 500,width=800)"
   ]
  },
  {
   "cell_type": "code",
   "execution_count": null,
   "metadata": {},
   "outputs": [],
   "source": []
  },
  {
   "cell_type": "code",
   "execution_count": null,
   "metadata": {},
   "outputs": [],
   "source": []
  }
 ],
 "metadata": {
  "kernelspec": {
   "display_name": "Python 3 (ipykernel)",
   "language": "python",
   "name": "python3"
  },
  "language_info": {
   "codemirror_mode": {
    "name": "ipython",
    "version": 3
   },
   "file_extension": ".py",
   "mimetype": "text/x-python",
   "name": "python",
   "nbconvert_exporter": "python",
   "pygments_lexer": "ipython3",
   "version": "3.10.12"
  }
 },
 "nbformat": 4,
 "nbformat_minor": 4
}
